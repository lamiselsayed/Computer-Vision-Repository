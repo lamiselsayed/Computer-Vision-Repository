{
 "cells": [
  {
   "cell_type": "code",
   "execution_count": 1,
   "metadata": {},
   "outputs": [],
   "source": [
    "#!pip install torch torchvision\n",
    "import torch\n",
    "from torch import nn\n",
    "from torch import optim                             # used to compute the derivative\n",
    "from torch.utils.data import Dataset\n",
    "from torch.utils.data import DataLoader\n",
    "from torchvision import datasets\n",
    "from torchvision import transforms\n",
    "from torchvision.transforms import ToTensor\n",
    "\n",
    "import numpy as np\n",
    "from matplotlib import pyplot as plt\n",
    "\n",
    "from IPython.display import Markdown"
   ]
  },
  {
   "cell_type": "markdown",
   "metadata": {},
   "source": [
    "# Tensors"
   ]
  },
  {
   "cell_type": "markdown",
   "metadata": {},
   "source": [
    "- Used to encode $x$, $y$, and weights ($w's$) \n",
    "- Can run on GPUs"
   ]
  },
  {
   "cell_type": "markdown",
   "metadata": {},
   "source": [
    "### Initialization"
   ]
  },
  {
   "cell_type": "code",
   "execution_count": 2,
   "metadata": {},
   "outputs": [
    {
     "data": {
      "text/plain": [
       "tensor([[1, 2],\n",
       "        [3, 4]])"
      ]
     },
     "execution_count": 2,
     "metadata": {},
     "output_type": "execute_result"
    }
   ],
   "source": [
    "# you can initialize directly from an array\n",
    "data = [[1, 2], [3, 4]]\n",
    "x_data = torch.tensor(data)\n",
    "x_data"
   ]
  },
  {
   "cell_type": "code",
   "execution_count": 3,
   "metadata": {},
   "outputs": [
    {
     "data": {
      "text/plain": [
       "tensor([[1, 2],\n",
       "        [3, 4]], dtype=torch.int32)"
      ]
     },
     "execution_count": 3,
     "metadata": {},
     "output_type": "execute_result"
    }
   ],
   "source": [
    "# you can use a numpy array as well\n",
    "array = np.array(data)\n",
    "x_np = torch.from_numpy(array)\n",
    "x_np"
   ]
  },
  {
   "cell_type": "code",
   "execution_count": 5,
   "metadata": {},
   "outputs": [
    {
     "name": "stdout",
     "output_type": "stream",
     "text": [
      "tensor([[1, 1],\n",
      "        [1, 1]]) \n",
      "\n",
      "tensor([[0.1406, 0.8552],\n",
      "        [0.3141, 0.4775]])\n"
     ]
    }
   ],
   "source": [
    "# you can also initialize using other tensors\n",
    "# by doing so, the new tensor has the same shape and datatype as the original tensor unless specified otherwise\n",
    "x_ones = torch.ones_like(x_data)\n",
    "print(x_ones, '\\n')\n",
    "\n",
    "x_rand = torch.rand_like(x_data, dtype = torch.float)\n",
    "print(x_rand)"
   ]
  },
  {
   "cell_type": "code",
   "execution_count": 7,
   "metadata": {},
   "outputs": [
    {
     "data": {
      "text/plain": [
       "tensor([[0.0000, 0.3586, 0.4310],\n",
       "        [0.1384, 0.0846, 0.7078]])"
      ]
     },
     "execution_count": 7,
     "metadata": {},
     "output_type": "execute_result"
    }
   ],
   "source": [
    "# it's possible to use a random or constant value\n",
    "shape = (2,3,)\n",
    "rand_tensor = torch.rand(shape)\n",
    "rand_tensor[0][0] = 0\n",
    "rand_tensor"
   ]
  },
  {
   "cell_type": "code",
   "execution_count": 35,
   "metadata": {},
   "outputs": [
    {
     "name": "stdout",
     "output_type": "stream",
     "text": [
      "tensor([7.])\n"
     ]
    }
   ],
   "source": [
    "# requires_grad should be set to False if you want the autgrad to begin recording operations on a tensor\n",
    "# default is True\n",
    "x = torch.tensor([2.0], requires_grad=True)\n",
    "y = x ** 2 + 3 * x + 1\n",
    "\n",
    "# Tensor.grad is None by default\n",
    "# when backward() is called, the gradients for self are computed \n",
    "# more calls to backward() will add gradients into it\n",
    "y.backward()\n",
    "print(x.grad)   # gradient of y w.r.t x at x = 2\n",
    "\n",
    "# y'(2) = 2(x) + 3 = 2(2) + 3 = 7 --> gradient\n",
    "# if you do backward again for this case, it will give an error"
   ]
  },
  {
   "cell_type": "markdown",
   "metadata": {},
   "source": [
    "### Attributes and Operations"
   ]
  },
  {
   "cell_type": "code",
   "execution_count": 8,
   "metadata": {},
   "outputs": [
    {
     "name": "stdout",
     "output_type": "stream",
     "text": [
      "Shape of tensor: torch.Size([3, 4])\n",
      "Datatype of tensor: torch.float32\n",
      "Device tensor is stored on: cpu\n"
     ]
    }
   ],
   "source": [
    "tensor = torch.rand(3,4)\n",
    "\n",
    "print(f\"Shape of tensor: {tensor.shape}\")\n",
    "print(f\"Datatype of tensor: {tensor.dtype}\")\n",
    "print(f\"Device tensor is stored on: {tensor.device}\")"
   ]
  },
  {
   "cell_type": "code",
   "execution_count": 9,
   "metadata": {},
   "outputs": [],
   "source": [
    "# to move your tensor to the GPU:\n",
    "if torch.cuda.is_available():\n",
    "  tensor = tensor.to('cuda')"
   ]
  },
  {
   "cell_type": "code",
   "execution_count": 16,
   "metadata": {},
   "outputs": [
    {
     "name": "stdout",
     "output_type": "stream",
     "text": [
      "Original tensor:  tensor([[0.0868, 0.4915, 0.8799, 0.1764],\n",
      "        [0.6092, 0.9320, 0.3000, 0.3944],\n",
      "        [0.2656, 0.9649, 0.7482, 0.0920],\n",
      "        [0.0698, 0.8458, 0.3846, 0.8687]]) \n",
      "\n",
      "First row:  tensor([0.0868, 0.4915, 0.8799, 0.1764])\n",
      "First column:  tensor([0.0868, 0.6092, 0.2656, 0.0698])\n",
      "Last column: tensor([0.1764, 0.3944, 0.0920, 0.8687])\n",
      "Edited tensor:  tensor([[0.0868, 0.0000, 0.8799, 0.1764],\n",
      "        [0.6092, 0.0000, 0.3000, 0.3944],\n",
      "        [0.2656, 0.0000, 0.7482, 0.0920],\n",
      "        [0.0698, 0.0000, 0.3846, 0.8687]])\n"
     ]
    }
   ],
   "source": [
    "# indexing is similar to that of numpy\n",
    "tensor = torch.rand(4, 4)\n",
    "print('Original tensor: ', tensor,'\\n')\n",
    "print('First row: ',tensor[0])\n",
    "print('First column: ', tensor[:, 0])\n",
    "print('Last column:', tensor[..., -1])\n",
    "tensor[:,1] = 0\n",
    "print('Edited tensor: ',tensor)"
   ]
  },
  {
   "cell_type": "code",
   "execution_count": 23,
   "metadata": {},
   "outputs": [
    {
     "name": "stdout",
     "output_type": "stream",
     "text": [
      "cat:  tensor([[0.0868, 0.0000, 0.8799, 0.1764, 0.0868, 0.0000, 0.8799, 0.1764, 0.0868,\n",
      "         0.0000, 0.8799, 0.1764],\n",
      "        [0.6092, 0.0000, 0.3000, 0.3944, 0.6092, 0.0000, 0.3000, 0.3944, 0.6092,\n",
      "         0.0000, 0.3000, 0.3944],\n",
      "        [0.2656, 0.0000, 0.7482, 0.0920, 0.2656, 0.0000, 0.7482, 0.0920, 0.2656,\n",
      "         0.0000, 0.7482, 0.0920],\n",
      "        [0.0698, 0.0000, 0.3846, 0.8687, 0.0698, 0.0000, 0.3846, 0.8687, 0.0698,\n",
      "         0.0000, 0.3846, 0.8687]]) \n",
      "\n",
      "vstack:  tensor([[0.0868, 0.0000, 0.8799, 0.1764],\n",
      "        [0.6092, 0.0000, 0.3000, 0.3944],\n",
      "        [0.2656, 0.0000, 0.7482, 0.0920],\n",
      "        [0.0698, 0.0000, 0.3846, 0.8687],\n",
      "        [0.0868, 0.0000, 0.8799, 0.1764],\n",
      "        [0.6092, 0.0000, 0.3000, 0.3944],\n",
      "        [0.2656, 0.0000, 0.7482, 0.0920],\n",
      "        [0.0698, 0.0000, 0.3846, 0.8687],\n",
      "        [0.0868, 0.0000, 0.8799, 0.1764],\n",
      "        [0.6092, 0.0000, 0.3000, 0.3944],\n",
      "        [0.2656, 0.0000, 0.7482, 0.0920],\n",
      "        [0.0698, 0.0000, 0.3846, 0.8687]]) \n",
      "\n"
     ]
    }
   ],
   "source": [
    "# you can concatenate tensors\n",
    "# dim = 1 (hstack aka next to each other) and dim = 0 (vstack aka below the first one)\n",
    "t1 = torch.cat([tensor, tensor, tensor], dim=1)\n",
    "t2 = torch.vstack([tensor, tensor, tensor])\n",
    "\n",
    "print('cat: ', t1, '\\n')\n",
    "print('vstack: ', t2, '\\n')"
   ]
  },
  {
   "cell_type": "code",
   "execution_count": 24,
   "metadata": {},
   "outputs": [
    {
     "data": {
      "text/plain": [
       "tensor([[0.8129, 0.3864, 0.6976, 0.4978],\n",
       "        [0.3864, 0.6166, 0.4225, 0.5005],\n",
       "        [0.6976, 0.4225, 0.6388, 0.3862],\n",
       "        [0.4978, 0.5005, 0.3862, 0.9074]])"
      ]
     },
     "execution_count": 24,
     "metadata": {},
     "output_type": "execute_result"
    }
   ],
   "source": [
    "# you can do matrix multiplication as:\n",
    "# method 1\n",
    "y1 = tensor @ tensor.T\n",
    "# method 2\n",
    "y2 = tensor.matmul(tensor.T)\n",
    "# method 3\n",
    "y3 = torch.rand_like(tensor)\n",
    "torch.matmul(tensor, tensor.T, out=y3)"
   ]
  },
  {
   "cell_type": "code",
   "execution_count": 27,
   "metadata": {},
   "outputs": [
    {
     "data": {
      "text/plain": [
       "4.875492572784424"
      ]
     },
     "execution_count": 27,
     "metadata": {},
     "output_type": "execute_result"
    }
   ],
   "source": [
    "agg = tensor.sum()  # tensor of 1 number/element\n",
    "agg_item = agg.item()   # item() converts it to a python numerical value\n",
    "agg_item"
   ]
  },
  {
   "cell_type": "code",
   "execution_count": 29,
   "metadata": {},
   "outputs": [
    {
     "name": "stdout",
     "output_type": "stream",
     "text": [
      "Original tensor:  tensor([[5.0868, 5.0000, 5.8799, 5.1764],\n",
      "        [5.6092, 5.0000, 5.3000, 5.3944],\n",
      "        [5.2656, 5.0000, 5.7482, 5.0920],\n",
      "        [5.0698, 5.0000, 5.3846, 5.8687]]) \n",
      "\n",
      "New tensor:  tensor([[10.0868, 10.0000, 10.8799, 10.1764],\n",
      "        [10.6092, 10.0000, 10.3000, 10.3944],\n",
      "        [10.2656, 10.0000, 10.7482, 10.0920],\n",
      "        [10.0698, 10.0000, 10.3846, 10.8687]]) \n",
      "\n"
     ]
    }
   ],
   "source": [
    "# to do in place operations (ex: +=, -=), use '_' suffix\n",
    "print('Original tensor: ', tensor, '\\n')\n",
    "tensor.add_(5)\n",
    "print('New tensor: ', tensor, '\\n')\n"
   ]
  },
  {
   "cell_type": "markdown",
   "metadata": {},
   "source": [
    "# Perceptron"
   ]
  },
  {
   "cell_type": "markdown",
   "metadata": {},
   "source": [
    "### Example 1: Simple Perceptron"
   ]
  },
  {
   "cell_type": "markdown",
   "metadata": {},
   "source": [
    "Example requirements:\n",
    "- Have 4 inputs and a single output\n",
    "- Initialize the weights to 1\n",
    "- Consider a bias term\n",
    "- Take training points as $x_1 = 5$, $x_2 = -2$, $y=2$\n",
    "- Use backpropagation \n",
    "- Set 𝛼 = 0.1\n",
    "- Use squared loss function"
   ]
  },
  {
   "cell_type": "code",
   "execution_count": 50,
   "metadata": {},
   "outputs": [
    {
     "name": "stdout",
     "output_type": "stream",
     "text": [
      "Forward Pass, h = Linear(in_features=2, out_features=1, bias=True)\n",
      "Backward pass, Derivatives= tensor([[4.]]) tensor([[20., -8.]])\n",
      "Weights update, w= [[0.6]] [[-1.   1.8]]\n"
     ]
    }
   ],
   "source": [
    "x = torch.tensor([[5., -2.]])\n",
    "y = torch.tensor([[2.]])\n",
    "w = torch.ones((1,2))\n",
    "\n",
    "h = nn.Linear(2, 1, bias = True)\n",
    "h.weight = nn.Parameter(w)\n",
    "h.bias = nn.Parameter(torch.tensor([[1.]]))\n",
    "\n",
    "optimizer = optim.SGD(h.parameters(), lr = .1)\n",
    "\n",
    "cost = nn.MSELoss()\n",
    "\n",
    "optimizer.zero_grad()\n",
    "out = h(x)\n",
    "print(f'Forward Pass, h = {h}')\n",
    "loss = cost(out, y)\n",
    "loss.backward()\n",
    "print(f'Backward pass, Derivatives= {h.bias.grad} {h.weight.grad}')\n",
    "optimizer.step()\n",
    "print(f'Weights update, w= {h.bias.detach().numpy()} {h.weight.detach().numpy()}')\n"
   ]
  },
  {
   "cell_type": "markdown",
   "metadata": {},
   "source": [
    "### Example 2: Linear"
   ]
  },
  {
   "cell_type": "code",
   "execution_count": 54,
   "metadata": {},
   "outputs": [
    {
     "name": "stdout",
     "output_type": "stream",
     "text": [
      "\n",
      "Epoch [1 / 50]\n",
      "=================================\n",
      "Forward Pass: h = Linear(in_features=1, out_features=1, bias=True) | Backward Pass: Derivatives = tensor([32.4420]) tensor([[-88.7105]]) | Weights Update: w = [-3.9369345] [[8.949621]]\n",
      "\n",
      "Epoch [2 / 50]\n",
      "=================================\n",
      "Forward Pass: h = Linear(in_features=1, out_features=1, bias=True) | Backward Pass: Derivatives = tensor([-17.1133]) tensor([[44.6997]]) | Weights Update: w = [-2.225605] [[4.4796486]]\n",
      "\n",
      "Epoch [3 / 50]\n",
      "=================================\n",
      "Forward Pass: h = Linear(in_features=1, out_features=1, bias=True) | Backward Pass: Derivatives = tensor([8.0101]) tensor([[-22.8955]]) | Weights Update: w = [-3.0266109] [[6.7691946]]\n",
      "\n",
      "Epoch [4 / 50]\n",
      "=================================\n",
      "Forward Pass: h = Linear(in_features=1, out_features=1, bias=True) | Backward Pass: Derivatives = tensor([-4.7072]) tensor([[11.3604]]) | Weights Update: w = [-2.5558932] [[5.633152]]\n",
      "\n",
      "Epoch [5 / 50]\n",
      "=================================\n",
      "Forward Pass: h = Linear(in_features=1, out_features=1, bias=True) | Backward Pass: Derivatives = tensor([1.7495]) tensor([[-5.9926]]) | Weights Update: w = [-2.7308419] [[6.232412]]\n",
      "\n",
      "Epoch [6 / 50]\n",
      "=================================\n",
      "Forward Pass: h = Linear(in_features=1, out_features=1, bias=True) | Backward Pass: Derivatives = tensor([-1.5097]) tensor([[2.8050]]) | Weights Update: w = [-2.5798738] [[5.9519153]]\n",
      "\n",
      "Epoch [7 / 50]\n",
      "=================================\n",
      "Forward Pass: h = Linear(in_features=1, out_features=1, bias=True) | Backward Pass: Derivatives = tensor([0.1540]) tensor([[-1.6483]]) | Weights Update: w = [-2.595274] [[6.1167445]]\n",
      "\n",
      "Epoch [8 / 50]\n",
      "=================================\n",
      "Forward Pass: h = Linear(in_features=1, out_features=1, bias=True) | Backward Pass: Derivatives = tensor([-0.6770]) tensor([[0.6127]]) | Weights Update: w = [-2.5275733] [[6.0554776]]\n",
      "\n",
      "Epoch [9 / 50]\n",
      "=================================\n",
      "Forward Pass: h = Linear(in_features=1, out_features=1, bias=True) | Backward Pass: Derivatives = tensor([-0.2442]) tensor([[-0.5286]]) | Weights Update: w = [-2.5031567] [[6.108339]]\n",
      "\n",
      "Epoch [10 / 50]\n",
      "=================================\n",
      "Forward Pass: h = Linear(in_features=1, out_features=1, bias=True) | Backward Pass: Derivatives = tensor([-0.4520]) tensor([[0.0540]]) | Weights Update: w = [-2.4579604] [[6.1029415]]\n",
      "\n",
      "Epoch [11 / 50]\n",
      "=================================\n",
      "Forward Pass: h = Linear(in_features=1, out_features=1, bias=True) | Backward Pass: Derivatives = tensor([-0.3354]) tensor([[-0.2370]]) | Weights Update: w = [-2.4244237] [[6.1266446]]\n",
      "\n",
      "Epoch [12 / 50]\n",
      "=================================\n",
      "Forward Pass: h = Linear(in_features=1, out_features=1, bias=True) | Backward Pass: Derivatives = tensor([-0.3834]) tensor([[-0.0855]]) | Weights Update: w = [-2.386087] [[6.1351905]]\n",
      "\n",
      "Epoch [13 / 50]\n",
      "=================================\n",
      "Forward Pass: h = Linear(in_features=1, out_features=1, bias=True) | Backward Pass: Derivatives = tensor([-0.3482]) tensor([[-0.1582]]) | Weights Update: w = [-2.3512685] [[6.151013]]\n",
      "\n",
      "Epoch [14 / 50]\n",
      "=================================\n",
      "Forward Pass: h = Linear(in_features=1, out_features=1, bias=True) | Backward Pass: Derivatives = tensor([-0.3554]) tensor([[-0.1174]]) | Weights Update: w = [-2.3157325] [[6.162753]]\n",
      "\n",
      "Epoch [15 / 50]\n",
      "=================================\n",
      "Forward Pass: h = Linear(in_features=1, out_features=1, bias=True) | Backward Pass: Derivatives = tensor([-0.3413]) tensor([[-0.1342]]) | Weights Update: w = [-2.281604] [[6.1761737]]\n",
      "\n",
      "Epoch [16 / 50]\n",
      "=================================\n",
      "Forward Pass: h = Linear(in_features=1, out_features=1, bias=True) | Backward Pass: Derivatives = tensor([-0.3382]) tensor([[-0.1219]]) | Weights Update: w = [-2.2477858] [[6.1883626]]\n",
      "\n",
      "Epoch [17 / 50]\n",
      "=================================\n",
      "Forward Pass: h = Linear(in_features=1, out_features=1, bias=True) | Backward Pass: Derivatives = tensor([-0.3297]) tensor([[-0.1244]]) | Weights Update: w = [-2.214814] [[6.2008033]]\n",
      "\n",
      "Epoch [18 / 50]\n",
      "=================================\n",
      "Forward Pass: h = Linear(in_features=1, out_features=1, bias=True) | Backward Pass: Derivatives = tensor([-0.3242]) tensor([[-0.1195]]) | Weights Update: w = [-2.182397] [[6.2127504]]\n",
      "\n",
      "Epoch [19 / 50]\n",
      "=================================\n",
      "Forward Pass: h = Linear(in_features=1, out_features=1, bias=True) | Backward Pass: Derivatives = tensor([-0.3173]) tensor([[-0.1184]]) | Weights Update: w = [-2.150663] [[6.224589]]\n",
      "\n",
      "Epoch [20 / 50]\n",
      "=================================\n",
      "Forward Pass: h = Linear(in_features=1, out_features=1, bias=True) | Backward Pass: Derivatives = tensor([-0.3113]) tensor([[-0.1154]]) | Weights Update: w = [-2.1195285] [[6.2361317]]\n",
      "\n",
      "Epoch [21 / 50]\n",
      "=================================\n",
      "Forward Pass: h = Linear(in_features=1, out_features=1, bias=True) | Backward Pass: Derivatives = tensor([-0.3051]) tensor([[-0.1135]]) | Weights Update: w = [-2.0890174] [[6.2474804]]\n",
      "\n",
      "Epoch [22 / 50]\n",
      "=================================\n",
      "Forward Pass: h = Linear(in_features=1, out_features=1, bias=True) | Backward Pass: Derivatives = tensor([-0.2992]) tensor([[-0.1111]]) | Weights Update: w = [-2.0590987] [[6.258589]]\n",
      "\n",
      "Epoch [23 / 50]\n",
      "=================================\n",
      "Forward Pass: h = Linear(in_features=1, out_features=1, bias=True) | Backward Pass: Derivatives = tensor([-0.2933]) tensor([[-0.1090]]) | Weights Update: w = [-2.029771] [[6.2694883]]\n",
      "\n",
      "Epoch [24 / 50]\n",
      "=================================\n",
      "Forward Pass: h = Linear(in_features=1, out_features=1, bias=True) | Backward Pass: Derivatives = tensor([-0.2875]) tensor([[-0.1068]]) | Weights Update: w = [-2.0010173] [[6.2801695]]\n",
      "\n",
      "Epoch [25 / 50]\n",
      "=================================\n",
      "Forward Pass: h = Linear(in_features=1, out_features=1, bias=True) | Backward Pass: Derivatives = tensor([-0.2819]) tensor([[-0.1047]]) | Weights Update: w = [-1.9728291] [[6.2906437]]\n",
      "\n",
      "Epoch [26 / 50]\n",
      "=================================\n",
      "Forward Pass: h = Linear(in_features=1, out_features=1, bias=True) | Backward Pass: Derivatives = tensor([-0.2764]) tensor([[-0.1027]]) | Weights Update: w = [-1.9451934] [[6.3009095]]\n",
      "\n",
      "Epoch [27 / 50]\n",
      "=================================\n",
      "Forward Pass: h = Linear(in_features=1, out_features=1, bias=True) | Backward Pass: Derivatives = tensor([-0.2709]) tensor([[-0.1007]]) | Weights Update: w = [-1.918101] [[6.3109756]]\n",
      "\n",
      "Epoch [28 / 50]\n",
      "=================================\n",
      "Forward Pass: h = Linear(in_features=1, out_features=1, bias=True) | Backward Pass: Derivatives = tensor([-0.2656]) tensor([[-0.0987]]) | Weights Update: w = [-1.8915403] [[6.320844]]\n",
      "\n",
      "Epoch [29 / 50]\n",
      "=================================\n",
      "Forward Pass: h = Linear(in_features=1, out_features=1, bias=True) | Backward Pass: Derivatives = tensor([-0.2604]) tensor([[-0.0967]]) | Weights Update: w = [-1.8655007] [[6.330518]]\n",
      "\n",
      "Epoch [30 / 50]\n",
      "=================================\n",
      "Forward Pass: h = Linear(in_features=1, out_features=1, bias=True) | Backward Pass: Derivatives = tensor([-0.2553]) tensor([[-0.0948]]) | Weights Update: w = [-1.8399727] [[6.3400025]]\n",
      "\n",
      "Epoch [31 / 50]\n",
      "=================================\n",
      "Forward Pass: h = Linear(in_features=1, out_features=1, bias=True) | Backward Pass: Derivatives = tensor([-0.2503]) tensor([[-0.0930]]) | Weights Update: w = [-1.8149457] [[6.3493004]]\n",
      "\n",
      "Epoch [32 / 50]\n",
      "=================================\n",
      "Forward Pass: h = Linear(in_features=1, out_features=1, bias=True) | Backward Pass: Derivatives = tensor([-0.2454]) tensor([[-0.0912]]) | Weights Update: w = [-1.7904103] [[6.3584166]]\n",
      "\n",
      "Epoch [33 / 50]\n",
      "=================================\n",
      "Forward Pass: h = Linear(in_features=1, out_features=1, bias=True) | Backward Pass: Derivatives = tensor([-0.2405]) tensor([[-0.0894]]) | Weights Update: w = [-1.7663561] [[6.3673525]]\n",
      "\n",
      "Epoch [34 / 50]\n",
      "=================================\n",
      "Forward Pass: h = Linear(in_features=1, out_features=1, bias=True) | Backward Pass: Derivatives = tensor([-0.2358]) tensor([[-0.0876]]) | Weights Update: w = [-1.7427747] [[6.3761144]]\n",
      "\n",
      "Epoch [35 / 50]\n",
      "=================================\n",
      "Forward Pass: h = Linear(in_features=1, out_features=1, bias=True) | Backward Pass: Derivatives = tensor([-0.2312]) tensor([[-0.0859]]) | Weights Update: w = [-1.7196558] [[6.384703]]\n",
      "\n",
      "Epoch [36 / 50]\n",
      "=================================\n",
      "Forward Pass: h = Linear(in_features=1, out_features=1, bias=True) | Backward Pass: Derivatives = tensor([-0.2266]) tensor([[-0.0842]]) | Weights Update: w = [-1.696991] [[6.393124]]\n",
      "\n",
      "Epoch [37 / 50]\n",
      "=================================\n",
      "Forward Pass: h = Linear(in_features=1, out_features=1, bias=True) | Backward Pass: Derivatives = tensor([-0.2222]) tensor([[-0.0826]]) | Weights Update: w = [-1.6747711] [[6.401379]]\n",
      "\n",
      "Epoch [38 / 50]\n",
      "=================================\n",
      "Forward Pass: h = Linear(in_features=1, out_features=1, bias=True) | Backward Pass: Derivatives = tensor([-0.2178]) tensor([[-0.0809]]) | Weights Update: w = [-1.6529876] [[6.409473]]\n",
      "\n",
      "Epoch [39 / 50]\n",
      "=================================\n",
      "Forward Pass: h = Linear(in_features=1, out_features=1, bias=True) | Backward Pass: Derivatives = tensor([-0.2136]) tensor([[-0.0793]]) | Weights Update: w = [-1.6316313] [[6.4174066]]\n",
      "\n",
      "Epoch [40 / 50]\n",
      "=================================\n",
      "Forward Pass: h = Linear(in_features=1, out_features=1, bias=True) | Backward Pass: Derivatives = tensor([-0.2094]) tensor([[-0.0778]]) | Weights Update: w = [-1.6106946] [[6.425185]]\n",
      "\n",
      "Epoch [41 / 50]\n",
      "=================================\n",
      "Forward Pass: h = Linear(in_features=1, out_features=1, bias=True) | Backward Pass: Derivatives = tensor([-0.2053]) tensor([[-0.0763]]) | Weights Update: w = [-1.5901691] [[6.4328113]]\n",
      "\n",
      "Epoch [42 / 50]\n",
      "=================================\n",
      "Forward Pass: h = Linear(in_features=1, out_features=1, bias=True) | Backward Pass: Derivatives = tensor([-0.2012]) tensor([[-0.0748]]) | Weights Update: w = [-1.5700462] [[6.440287]]\n",
      "\n",
      "Epoch [43 / 50]\n",
      "=================================\n",
      "Forward Pass: h = Linear(in_features=1, out_features=1, bias=True) | Backward Pass: Derivatives = tensor([-0.1973]) tensor([[-0.0733]]) | Weights Update: w = [-1.5503187] [[6.447617]]\n",
      "\n",
      "Epoch [44 / 50]\n",
      "=================================\n",
      "Forward Pass: h = Linear(in_features=1, out_features=1, bias=True) | Backward Pass: Derivatives = tensor([-0.1934]) tensor([[-0.0719]]) | Weights Update: w = [-1.5309782] [[6.454802]]\n",
      "\n",
      "Epoch [45 / 50]\n",
      "=================================\n",
      "Forward Pass: h = Linear(in_features=1, out_features=1, bias=True) | Backward Pass: Derivatives = tensor([-0.1896]) tensor([[-0.0704]]) | Weights Update: w = [-1.5120176] [[6.4618464]]\n",
      "\n",
      "Epoch [46 / 50]\n",
      "=================================\n",
      "Forward Pass: h = Linear(in_features=1, out_features=1, bias=True) | Backward Pass: Derivatives = tensor([-0.1859]) tensor([[-0.0691]]) | Weights Update: w = [-1.4934293] [[6.4687524]]\n",
      "\n",
      "Epoch [47 / 50]\n",
      "=================================\n",
      "Forward Pass: h = Linear(in_features=1, out_features=1, bias=True) | Backward Pass: Derivatives = tensor([-0.1822]) tensor([[-0.0677]]) | Weights Update: w = [-1.4752059] [[6.4755235]]\n",
      "\n",
      "Epoch [48 / 50]\n",
      "=================================\n",
      "Forward Pass: h = Linear(in_features=1, out_features=1, bias=True) | Backward Pass: Derivatives = tensor([-0.1787]) tensor([[-0.0664]]) | Weights Update: w = [-1.4573399] [[6.4821606]]\n",
      "\n",
      "Epoch [49 / 50]\n",
      "=================================\n",
      "Forward Pass: h = Linear(in_features=1, out_features=1, bias=True) | Backward Pass: Derivatives = tensor([-0.1751]) tensor([[-0.0651]]) | Weights Update: w = [-1.4398249] [[6.488668]]\n",
      "\n",
      "Epoch [50 / 50]\n",
      "=================================\n",
      "Forward Pass: h = Linear(in_features=1, out_features=1, bias=True) | Backward Pass: Derivatives = tensor([-0.1717]) tensor([[-0.0638]]) | Weights Update: w = [-1.4226539] [[6.4950476]]\n"
     ]
    }
   ],
   "source": [
    "np.random.seed(22)\n",
    "x_data = np.sort(-4. + 3. * np.random.rand(30))\n",
    "y_data = 7. * x_data + np.random.randn(30)\n",
    "\n",
    "x = torch.tensor(x_data[:,np.newaxis], dtype=torch.float32)\n",
    "y = torch.tensor(y_data[:,np.newaxis], dtype=torch.float32)\n",
    "\n",
    "h = nn.Linear(1, 1, bias=True)\n",
    "\n",
    "optimizer = optim.SGD(h.parameters(), lr = 0.1)\n",
    "cost = nn.MSELoss()\n",
    "\n",
    "for i in range(50):\n",
    "    optimizer.zero_grad()\n",
    "    out = h(x)\n",
    "    loss = cost(out, y)\n",
    "    loss.backward()\n",
    "    optimizer.step()\n",
    "    \n",
    "    print(f'\\nEpoch [{i + 1} / {50}]')\n",
    "    print('=================================')\n",
    "    print(f'Forward Pass: h = {h} | Backward Pass: Derivatives = {h.bias.grad} {h.weight.grad} | Weights Update: w = {h.bias.detach().numpy()} {h.weight.detach().numpy()}')"
   ]
  },
  {
   "cell_type": "code",
   "execution_count": 56,
   "metadata": {},
   "outputs": [
    {
     "name": "stdout",
     "output_type": "stream",
     "text": [
      "h Weight:  Parameter containing:\n",
      "tensor([[6.4950]], requires_grad=True)\n",
      "h Bias:  Parameter containing:\n",
      "tensor([-1.4227], requires_grad=True)\n"
     ]
    }
   ],
   "source": [
    "print('h Weight: ', h.weight)\n",
    "print('h Bias: ', h.bias)"
   ]
  },
  {
   "cell_type": "code",
   "execution_count": 60,
   "metadata": {},
   "outputs": [
    {
     "data": {
      "text/plain": [
       "<matplotlib.legend.Legend at 0x1760335be10>"
      ]
     },
     "execution_count": 60,
     "metadata": {},
     "output_type": "execute_result"
    },
    {
     "data": {
      "image/png": "[encoded data removed]",
      "text/plain": [
       "<Figure size 640x480 with 1 Axes>"
      ]
     },
     "metadata": {},
     "output_type": "display_data"
    }
   ],
   "source": [
    "x_new = torch.linspace(-4, -1, 100).view(-1, 1)\n",
    "y_new = h(x_new)\n",
    "\n",
    "plt.plot(x_data, y_data, 'b.', label = 'Actual Values')\n",
    "plt.plot(x_new, y_new.detach().numpy(),'r', label = 'Predicted Values')\n",
    "plt.legend()"
   ]
  },
  {
   "cell_type": "markdown",
   "metadata": {},
   "source": [
    "### Example 3: Nonlinear"
   ]
  },
  {
   "cell_type": "code",
   "execution_count": 82,
   "metadata": {},
   "outputs": [
    {
     "data": {
      "text/plain": [
       "[<matplotlib.lines.Line2D at 0x1760760f4d0>]"
      ]
     },
     "execution_count": 82,
     "metadata": {},
     "output_type": "execute_result"
    },
    {
     "data": {
      "image/png": "[encoded data removed]",
      "text/plain": [
       "<Figure size 640x480 with 1 Axes>"
      ]
     },
     "metadata": {},
     "output_type": "display_data"
    }
   ],
   "source": [
    "# Generate synthetic data for number of hours spend on video games vs happiness level\n",
    "np.random.seed(42)\n",
    "hours = torch.linspace(0, 14, 100).view(-1, 1) # 100 numbers between 0 and 14\n",
    "happiness = 10 + 2 * hours + 0.2*np.random.normal(0, 5, 100).astype(np.float32).reshape(-1,1) - 0.2 * hours**2\n",
    "x = hours\n",
    "y = happiness\n",
    "\n",
    "plt.plot(x, y, '.')"
   ]
  },
  {
   "cell_type": "code",
   "execution_count": 98,
   "metadata": {},
   "outputs": [
    {
     "name": "stdout",
     "output_type": "stream",
     "text": [
      "Epoch [500 / 10000] -- Loss: 4.9285\n",
      "Epoch [1000 / 10000] -- Loss: 3.9115\n",
      "Epoch [1500 / 10000] -- Loss: 3.4974\n",
      "Epoch [2000 / 10000] -- Loss: 2.8980\n",
      "Epoch [2500 / 10000] -- Loss: 2.2560\n",
      "Epoch [3000 / 10000] -- Loss: 1.6926\n",
      "Epoch [3500 / 10000] -- Loss: 1.5363\n",
      "Epoch [4000 / 10000] -- Loss: 1.3466\n",
      "Epoch [4500 / 10000] -- Loss: 1.2837\n",
      "Epoch [5000 / 10000] -- Loss: 1.2729\n",
      "Epoch [5500 / 10000] -- Loss: 1.0712\n",
      "Epoch [6000 / 10000] -- Loss: 1.1377\n",
      "Epoch [6500 / 10000] -- Loss: 1.0849\n",
      "Epoch [7000 / 10000] -- Loss: 1.1298\n",
      "Epoch [7500 / 10000] -- Loss: 0.9622\n",
      "Epoch [8000 / 10000] -- Loss: 0.9872\n",
      "Epoch [8500 / 10000] -- Loss: 1.0697\n",
      "Epoch [9000 / 10000] -- Loss: 1.0305\n",
      "Epoch [9500 / 10000] -- Loss: 0.9743\n",
      "Epoch [10000 / 10000] -- Loss: 0.7963\n"
     ]
    }
   ],
   "source": [
    "# TODO\n",
    "# 2 hidden layers; each will have 6 neurons (for each neuron, we have a bias term), use ReLU for the function g in the hidden layers\n",
    "\n",
    "class Model(nn.Module):\n",
    "    def __init__(self):\n",
    "        super(Model, self).__init__()\n",
    "        self.layer1 = nn.Linear(1, 6, bias=True)\n",
    "        # self.fc1 = nn.ReLU()\n",
    "        self.layer2 = nn.Linear(6, 6)\n",
    "        # self.fc2 = nn.ReLU()\n",
    "        self.layer3 = nn.Linear(6, 1)\n",
    "\n",
    "    def forward(self, x):\n",
    "        # x= self.layer1(x)\n",
    "        # x= self.fc1(x)\n",
    "        # x= self.layer2(x)\n",
    "        # x= self.fc2(x)\n",
    "        # x= self.layer3(x)\n",
    "        x = torch.relu(self.layer1(x))\n",
    "        x = torch.relu(self.layer2(x))\n",
    "        x = self.layer3(x)\n",
    "        return x\n",
    "    \n",
    "model = Model()\n",
    "\n",
    "num_epochs = 10000\n",
    "optimizer = optim.SGD(model.parameters(), lr = 0.001)\n",
    "criterion = nn.MSELoss()\n",
    "\n",
    "for epoch in range(num_epochs):\n",
    "    y_pred = model(x)\n",
    "    loss = criterion(y_pred, y)\n",
    "    optimizer.zero_grad()\n",
    "    loss.backward()\n",
    "    optimizer.step()\n",
    "    \n",
    "    if (epoch + 1) % 500 == 0:\n",
    "        print(f'Epoch [{epoch + 1} / {num_epochs}] -- Loss: {loss.item():.4f}')\n"
   ]
  },
  {
   "cell_type": "code",
   "execution_count": 99,
   "metadata": {},
   "outputs": [
    {
     "data": {
      "text/plain": [
       "<matplotlib.legend.Legend at 0x17607871610>"
      ]
     },
     "execution_count": 99,
     "metadata": {},
     "output_type": "execute_result"
    },
    {
     "data": {
      "image/png": "[encoded data removed]",
      "text/plain": [
       "<Figure size 640x480 with 1 Axes>"
      ]
     },
     "metadata": {},
     "output_type": "display_data"
    }
   ],
   "source": [
    "plt.plot(x, y, 'b.', label = 'Actual Values')\n",
    "\n",
    "out = model.forward(x)\n",
    "plt.plot(x, out.detach().numpy(), 'r', label = 'Predicted Values')\n",
    "plt.xlabel('Hours Playing Video Games')\n",
    "plt.ylabel('Happiness Level')\n",
    "plt.title('Synthetic Data')\n",
    "plt.legend()"
   ]
  },
  {
   "cell_type": "markdown",
   "metadata": {},
   "source": [
    "### Example 4: MNIST"
   ]
  },
  {
   "cell_type": "code",
   "execution_count": 102,
   "metadata": {},
   "outputs": [],
   "source": [
    "training_data = datasets.MNIST(\n",
    "    root='~/Downloads/VisionCNN',\n",
    "    train=True,\n",
    "    download=True,\n",
    "    transform=transforms.Compose([\n",
    "              transforms.ToTensor()])\n",
    ")                                     # download MNIST dataset, save it in the Downloads folder, we only want to get the training part\n",
    "                                      # download = True --> download if it doesn't exist\n",
    "                                      # transforms.ToTensor() --> convert each image in the PIL data type to Tensor\n",
    "                                      # if you want to apply Gaussian Blur, flip the image, do some data augmentation --> all can be specified here \n",
    "\n",
    "# training_data[0] --> first image in the training dataset, prints as a tuple -- PIL image & its ground truth label which is 8 (for e.g.)\n",
    "# training_data[0][0] --> display the actual image\n",
    "# Above is assumed without the transforms.ToTensor() part\n",
    "\n",
    "test_data = datasets.MNIST(\n",
    "    root='~/Downloads/VisionCNN',\n",
    "    train=False,\n",
    "    download=True,\n",
    "    transform=ToTensor()\n",
    ")\n",
    "batchsize = 64\n",
    "train_dataloader = DataLoader(training_data, batch_size=batchsize, shuffle=True)        # accepts a dataset, specify the batch size, do you want to shuffle, etc.\n",
    "test_dataloader = DataLoader(test_data, batch_size=8, shuffle=True)"
   ]
  },
  {
   "cell_type": "code",
   "execution_count": 103,
   "metadata": {},
   "outputs": [
    {
     "name": "stdout",
     "output_type": "stream",
     "text": [
      "Epoch [1 / 1000] -- 1 | Loss: 2.4120\n",
      "Epoch [1 / 1000] -- 301 | Loss: 2.0682\n",
      "Epoch [1 / 1000] -- 601 | Loss: 1.7450\n",
      "Epoch [1 / 1000] -- 901 | Loss: 1.6625\n",
      "Epoch [2 / 1000] -- 1 | Loss: 1.4902\n",
      "Epoch [2 / 1000] -- 301 | Loss: 1.4776\n",
      "Epoch [2 / 1000] -- 601 | Loss: 1.3643\n",
      "Epoch [2 / 1000] -- 901 | Loss: 1.2044\n",
      "Epoch [3 / 1000] -- 1 | Loss: 1.2788\n",
      "Epoch [3 / 1000] -- 301 | Loss: 1.1654\n",
      "Epoch [3 / 1000] -- 601 | Loss: 1.0370\n",
      "Epoch [3 / 1000] -- 901 | Loss: 1.0102\n",
      "Epoch [4 / 1000] -- 1 | Loss: 1.0082\n",
      "Epoch [4 / 1000] -- 301 | Loss: 1.0387\n",
      "Epoch [4 / 1000] -- 601 | Loss: 0.8846\n",
      "Epoch [4 / 1000] -- 901 | Loss: 0.9111\n",
      "Epoch [5 / 1000] -- 1 | Loss: 0.8702\n",
      "Epoch [5 / 1000] -- 301 | Loss: 0.9371\n",
      "Epoch [5 / 1000] -- 601 | Loss: 0.6996\n",
      "Epoch [5 / 1000] -- 901 | Loss: 0.8036\n",
      "Epoch [6 / 1000] -- 1 | Loss: 0.7802\n",
      "Epoch [6 / 1000] -- 301 | Loss: 0.8714\n",
      "Epoch [6 / 1000] -- 601 | Loss: 0.7468\n",
      "Epoch [6 / 1000] -- 901 | Loss: 0.7823\n",
      "Epoch [7 / 1000] -- 1 | Loss: 0.7776\n",
      "Epoch [7 / 1000] -- 301 | Loss: 0.6493\n",
      "Epoch [7 / 1000] -- 601 | Loss: 0.8031\n",
      "Epoch [7 / 1000] -- 901 | Loss: 0.5364\n",
      "Epoch [8 / 1000] -- 1 | Loss: 0.6020\n",
      "Epoch [8 / 1000] -- 301 | Loss: 0.7205\n",
      "Epoch [8 / 1000] -- 601 | Loss: 0.6943\n",
      "Epoch [8 / 1000] -- 901 | Loss: 0.7864\n",
      "Epoch [9 / 1000] -- 1 | Loss: 0.5433\n",
      "Epoch [9 / 1000] -- 301 | Loss: 0.7449\n",
      "Epoch [9 / 1000] -- 601 | Loss: 0.8922\n",
      "Epoch [9 / 1000] -- 901 | Loss: 0.7069\n",
      "Epoch [10 / 1000] -- 1 | Loss: 0.6473\n",
      "Epoch [10 / 1000] -- 301 | Loss: 0.7700\n",
      "Epoch [10 / 1000] -- 601 | Loss: 0.5084\n",
      "Epoch [10 / 1000] -- 901 | Loss: 0.6204\n",
      "Epoch [11 / 1000] -- 1 | Loss: 0.5931\n",
      "Epoch [11 / 1000] -- 301 | Loss: 0.6896\n",
      "Epoch [11 / 1000] -- 601 | Loss: 0.6092\n",
      "Epoch [11 / 1000] -- 901 | Loss: 0.4848\n",
      "Epoch [12 / 1000] -- 1 | Loss: 0.8000\n",
      "Epoch [12 / 1000] -- 301 | Loss: 0.5947\n",
      "Epoch [12 / 1000] -- 601 | Loss: 0.5660\n",
      "Epoch [12 / 1000] -- 901 | Loss: 0.5919\n",
      "Epoch [13 / 1000] -- 1 | Loss: 0.5574\n",
      "Epoch [13 / 1000] -- 301 | Loss: 0.7016\n",
      "Epoch [13 / 1000] -- 601 | Loss: 0.5525\n",
      "Epoch [13 / 1000] -- 901 | Loss: 0.4502\n",
      "Epoch [14 / 1000] -- 1 | Loss: 0.5892\n",
      "Epoch [14 / 1000] -- 301 | Loss: 0.5509\n",
      "Epoch [14 / 1000] -- 601 | Loss: 0.5600\n",
      "Epoch [14 / 1000] -- 901 | Loss: 0.5493\n",
      "Epoch [15 / 1000] -- 1 | Loss: 0.6795\n",
      "Epoch [15 / 1000] -- 301 | Loss: 0.5053\n",
      "Epoch [15 / 1000] -- 601 | Loss: 0.4807\n",
      "Epoch [15 / 1000] -- 901 | Loss: 0.3770\n",
      "Epoch [16 / 1000] -- 1 | Loss: 0.4821\n",
      "Epoch [16 / 1000] -- 301 | Loss: 0.4375\n",
      "Epoch [16 / 1000] -- 601 | Loss: 0.4795\n",
      "Epoch [16 / 1000] -- 901 | Loss: 0.6703\n",
      "Epoch [17 / 1000] -- 1 | Loss: 0.5320\n",
      "Epoch [17 / 1000] -- 301 | Loss: 0.6011\n",
      "Epoch [17 / 1000] -- 601 | Loss: 0.4515\n",
      "Epoch [17 / 1000] -- 901 | Loss: 0.5061\n",
      "Epoch [18 / 1000] -- 1 | Loss: 0.5058\n",
      "Epoch [18 / 1000] -- 301 | Loss: 0.5571\n",
      "Epoch [18 / 1000] -- 601 | Loss: 0.3901\n",
      "Epoch [18 / 1000] -- 901 | Loss: 0.5486\n",
      "Epoch [19 / 1000] -- 1 | Loss: 0.6146\n",
      "Epoch [19 / 1000] -- 301 | Loss: 0.4418\n",
      "Epoch [19 / 1000] -- 601 | Loss: 0.5651\n",
      "Epoch [19 / 1000] -- 901 | Loss: 0.5321\n",
      "Epoch [20 / 1000] -- 1 | Loss: 0.3336\n",
      "Epoch [20 / 1000] -- 301 | Loss: 0.6523\n",
      "Epoch [20 / 1000] -- 601 | Loss: 0.4077\n",
      "Epoch [20 / 1000] -- 901 | Loss: 0.4205\n",
      "Epoch [21 / 1000] -- 1 | Loss: 0.4909\n",
      "Epoch [21 / 1000] -- 301 | Loss: 0.4640\n",
      "Epoch [21 / 1000] -- 601 | Loss: 0.5012\n",
      "Epoch [21 / 1000] -- 901 | Loss: 0.5352\n",
      "Epoch [22 / 1000] -- 1 | Loss: 0.4648\n"
     ]
    },
    {
     "ename": "KeyboardInterrupt",
     "evalue": "",
     "output_type": "error",
     "traceback": [
      "\u001b[1;31m---------------------------------------------------------------------------\u001b[0m",
      "\u001b[1;31mKeyboardInterrupt\u001b[0m                         Traceback (most recent call last)",
      "Cell \u001b[1;32mIn[103], line 22\u001b[0m\n\u001b[0;32m     19\u001b[0m \u001b[38;5;28;01mfor\u001b[39;00m epoch \u001b[38;5;129;01min\u001b[39;00m \u001b[38;5;28mrange\u001b[39m(num_epochs):\n\u001b[0;32m     20\u001b[0m     tot_loss \u001b[38;5;241m=\u001b[39m \u001b[38;5;241m0\u001b[39m\n\u001b[1;32m---> 22\u001b[0m \u001b[43m    \u001b[49m\u001b[38;5;28;43;01mfor\u001b[39;49;00m\u001b[43m \u001b[49m\u001b[43mi\u001b[49m\u001b[43m,\u001b[49m\u001b[43m \u001b[49m\u001b[43m(\u001b[49m\u001b[43minputs\u001b[49m\u001b[43m,\u001b[49m\u001b[43m \u001b[49m\u001b[43mlabels\u001b[49m\u001b[43m)\u001b[49m\u001b[43m \u001b[49m\u001b[38;5;129;43;01min\u001b[39;49;00m\u001b[43m \u001b[49m\u001b[38;5;28;43menumerate\u001b[39;49m\u001b[43m(\u001b[49m\u001b[43mtrain_dataloader\u001b[49m\u001b[43m)\u001b[49m\u001b[43m:\u001b[49m\n\u001b[0;32m     23\u001b[0m \u001b[43m        \u001b[49m\u001b[43minputs\u001b[49m\u001b[43m \u001b[49m\u001b[38;5;241;43m=\u001b[39;49m\u001b[43m \u001b[49m\u001b[43minputs\u001b[49m\u001b[38;5;241;43m.\u001b[39;49m\u001b[43mreshape\u001b[49m\u001b[43m(\u001b[49m\u001b[43minputs\u001b[49m\u001b[38;5;241;43m.\u001b[39;49m\u001b[43mshape\u001b[49m\u001b[43m[\u001b[49m\u001b[38;5;241;43m0\u001b[39;49m\u001b[43m]\u001b[49m\u001b[43m,\u001b[49m\u001b[43m \u001b[49m\u001b[38;5;241;43m-\u001b[39;49m\u001b[38;5;241;43m1\u001b[39;49m\u001b[43m)\u001b[49m\n\u001b[0;32m     24\u001b[0m \u001b[43m        \u001b[49m\u001b[43moptimizer\u001b[49m\u001b[38;5;241;43m.\u001b[39;49m\u001b[43mzero_grad\u001b[49m\u001b[43m(\u001b[49m\u001b[43m)\u001b[49m\n",
      "File \u001b[1;32mc:\\Users\\ronyf\\anaconda3\\Lib\\site-packages\\torch\\utils\\data\\dataloader.py:631\u001b[0m, in \u001b[0;36m_BaseDataLoaderIter.__next__\u001b[1;34m(self)\u001b[0m\n\u001b[0;32m    628\u001b[0m \u001b[38;5;28;01mif\u001b[39;00m \u001b[38;5;28mself\u001b[39m\u001b[38;5;241m.\u001b[39m_sampler_iter \u001b[38;5;129;01mis\u001b[39;00m \u001b[38;5;28;01mNone\u001b[39;00m:\n\u001b[0;32m    629\u001b[0m     \u001b[38;5;66;03m# TODO(https://github.com/pytorch/pytorch/issues/76750)\u001b[39;00m\n\u001b[0;32m    630\u001b[0m     \u001b[38;5;28mself\u001b[39m\u001b[38;5;241m.\u001b[39m_reset()  \u001b[38;5;66;03m# type: ignore[call-arg]\u001b[39;00m\n\u001b[1;32m--> 631\u001b[0m data \u001b[38;5;241m=\u001b[39m \u001b[38;5;28;43mself\u001b[39;49m\u001b[38;5;241;43m.\u001b[39;49m\u001b[43m_next_data\u001b[49m\u001b[43m(\u001b[49m\u001b[43m)\u001b[49m\n\u001b[0;32m    632\u001b[0m \u001b[38;5;28mself\u001b[39m\u001b[38;5;241m.\u001b[39m_num_yielded \u001b[38;5;241m+\u001b[39m\u001b[38;5;241m=\u001b[39m \u001b[38;5;241m1\u001b[39m\n\u001b[0;32m    633\u001b[0m \u001b[38;5;28;01mif\u001b[39;00m \u001b[38;5;28mself\u001b[39m\u001b[38;5;241m.\u001b[39m_dataset_kind \u001b[38;5;241m==\u001b[39m _DatasetKind\u001b[38;5;241m.\u001b[39mIterable \u001b[38;5;129;01mand\u001b[39;00m \\\n\u001b[0;32m    634\u001b[0m         \u001b[38;5;28mself\u001b[39m\u001b[38;5;241m.\u001b[39m_IterableDataset_len_called \u001b[38;5;129;01mis\u001b[39;00m \u001b[38;5;129;01mnot\u001b[39;00m \u001b[38;5;28;01mNone\u001b[39;00m \u001b[38;5;129;01mand\u001b[39;00m \\\n\u001b[0;32m    635\u001b[0m         \u001b[38;5;28mself\u001b[39m\u001b[38;5;241m.\u001b[39m_num_yielded \u001b[38;5;241m>\u001b[39m \u001b[38;5;28mself\u001b[39m\u001b[38;5;241m.\u001b[39m_IterableDataset_len_called:\n",
      "File \u001b[1;32mc:\\Users\\ronyf\\anaconda3\\Lib\\site-packages\\torch\\utils\\data\\dataloader.py:675\u001b[0m, in \u001b[0;36m_SingleProcessDataLoaderIter._next_data\u001b[1;34m(self)\u001b[0m\n\u001b[0;32m    673\u001b[0m \u001b[38;5;28;01mdef\u001b[39;00m \u001b[38;5;21m_next_data\u001b[39m(\u001b[38;5;28mself\u001b[39m):\n\u001b[0;32m    674\u001b[0m     index \u001b[38;5;241m=\u001b[39m \u001b[38;5;28mself\u001b[39m\u001b[38;5;241m.\u001b[39m_next_index()  \u001b[38;5;66;03m# may raise StopIteration\u001b[39;00m\n\u001b[1;32m--> 675\u001b[0m     data \u001b[38;5;241m=\u001b[39m \u001b[38;5;28;43mself\u001b[39;49m\u001b[38;5;241;43m.\u001b[39;49m\u001b[43m_dataset_fetcher\u001b[49m\u001b[38;5;241;43m.\u001b[39;49m\u001b[43mfetch\u001b[49m\u001b[43m(\u001b[49m\u001b[43mindex\u001b[49m\u001b[43m)\u001b[49m  \u001b[38;5;66;03m# may raise StopIteration\u001b[39;00m\n\u001b[0;32m    676\u001b[0m     \u001b[38;5;28;01mif\u001b[39;00m \u001b[38;5;28mself\u001b[39m\u001b[38;5;241m.\u001b[39m_pin_memory:\n\u001b[0;32m    677\u001b[0m         data \u001b[38;5;241m=\u001b[39m _utils\u001b[38;5;241m.\u001b[39mpin_memory\u001b[38;5;241m.\u001b[39mpin_memory(data, \u001b[38;5;28mself\u001b[39m\u001b[38;5;241m.\u001b[39m_pin_memory_device)\n",
      "File \u001b[1;32mc:\\Users\\ronyf\\anaconda3\\Lib\\site-packages\\torch\\utils\\data\\_utils\\fetch.py:51\u001b[0m, in \u001b[0;36m_MapDatasetFetcher.fetch\u001b[1;34m(self, possibly_batched_index)\u001b[0m\n\u001b[0;32m     49\u001b[0m         data \u001b[38;5;241m=\u001b[39m \u001b[38;5;28mself\u001b[39m\u001b[38;5;241m.\u001b[39mdataset\u001b[38;5;241m.\u001b[39m__getitems__(possibly_batched_index)\n\u001b[0;32m     50\u001b[0m     \u001b[38;5;28;01melse\u001b[39;00m:\n\u001b[1;32m---> 51\u001b[0m         data \u001b[38;5;241m=\u001b[39m \u001b[43m[\u001b[49m\u001b[38;5;28;43mself\u001b[39;49m\u001b[38;5;241;43m.\u001b[39;49m\u001b[43mdataset\u001b[49m\u001b[43m[\u001b[49m\u001b[43midx\u001b[49m\u001b[43m]\u001b[49m\u001b[43m \u001b[49m\u001b[38;5;28;43;01mfor\u001b[39;49;00m\u001b[43m \u001b[49m\u001b[43midx\u001b[49m\u001b[43m \u001b[49m\u001b[38;5;129;43;01min\u001b[39;49;00m\u001b[43m \u001b[49m\u001b[43mpossibly_batched_index\u001b[49m\u001b[43m]\u001b[49m\n\u001b[0;32m     52\u001b[0m \u001b[38;5;28;01melse\u001b[39;00m:\n\u001b[0;32m     53\u001b[0m     data \u001b[38;5;241m=\u001b[39m \u001b[38;5;28mself\u001b[39m\u001b[38;5;241m.\u001b[39mdataset[possibly_batched_index]\n",
      "File \u001b[1;32mc:\\Users\\ronyf\\anaconda3\\Lib\\site-packages\\torch\\utils\\data\\_utils\\fetch.py:51\u001b[0m, in \u001b[0;36m<listcomp>\u001b[1;34m(.0)\u001b[0m\n\u001b[0;32m     49\u001b[0m         data \u001b[38;5;241m=\u001b[39m \u001b[38;5;28mself\u001b[39m\u001b[38;5;241m.\u001b[39mdataset\u001b[38;5;241m.\u001b[39m__getitems__(possibly_batched_index)\n\u001b[0;32m     50\u001b[0m     \u001b[38;5;28;01melse\u001b[39;00m:\n\u001b[1;32m---> 51\u001b[0m         data \u001b[38;5;241m=\u001b[39m [\u001b[38;5;28;43mself\u001b[39;49m\u001b[38;5;241;43m.\u001b[39;49m\u001b[43mdataset\u001b[49m\u001b[43m[\u001b[49m\u001b[43midx\u001b[49m\u001b[43m]\u001b[49m \u001b[38;5;28;01mfor\u001b[39;00m idx \u001b[38;5;129;01min\u001b[39;00m possibly_batched_index]\n\u001b[0;32m     52\u001b[0m \u001b[38;5;28;01melse\u001b[39;00m:\n\u001b[0;32m     53\u001b[0m     data \u001b[38;5;241m=\u001b[39m \u001b[38;5;28mself\u001b[39m\u001b[38;5;241m.\u001b[39mdataset[possibly_batched_index]\n",
      "File \u001b[1;32mc:\\Users\\ronyf\\anaconda3\\Lib\\site-packages\\torchvision\\datasets\\mnist.py:145\u001b[0m, in \u001b[0;36mMNIST.__getitem__\u001b[1;34m(self, index)\u001b[0m\n\u001b[0;32m    142\u001b[0m img \u001b[38;5;241m=\u001b[39m Image\u001b[38;5;241m.\u001b[39mfromarray(img\u001b[38;5;241m.\u001b[39mnumpy(), mode\u001b[38;5;241m=\u001b[39m\u001b[38;5;124m\"\u001b[39m\u001b[38;5;124mL\u001b[39m\u001b[38;5;124m\"\u001b[39m)\n\u001b[0;32m    144\u001b[0m \u001b[38;5;28;01mif\u001b[39;00m \u001b[38;5;28mself\u001b[39m\u001b[38;5;241m.\u001b[39mtransform \u001b[38;5;129;01mis\u001b[39;00m \u001b[38;5;129;01mnot\u001b[39;00m \u001b[38;5;28;01mNone\u001b[39;00m:\n\u001b[1;32m--> 145\u001b[0m     img \u001b[38;5;241m=\u001b[39m \u001b[38;5;28;43mself\u001b[39;49m\u001b[38;5;241;43m.\u001b[39;49m\u001b[43mtransform\u001b[49m\u001b[43m(\u001b[49m\u001b[43mimg\u001b[49m\u001b[43m)\u001b[49m\n\u001b[0;32m    147\u001b[0m \u001b[38;5;28;01mif\u001b[39;00m \u001b[38;5;28mself\u001b[39m\u001b[38;5;241m.\u001b[39mtarget_transform \u001b[38;5;129;01mis\u001b[39;00m \u001b[38;5;129;01mnot\u001b[39;00m \u001b[38;5;28;01mNone\u001b[39;00m:\n\u001b[0;32m    148\u001b[0m     target \u001b[38;5;241m=\u001b[39m \u001b[38;5;28mself\u001b[39m\u001b[38;5;241m.\u001b[39mtarget_transform(target)\n",
      "File \u001b[1;32mc:\\Users\\ronyf\\anaconda3\\Lib\\site-packages\\torchvision\\transforms\\transforms.py:95\u001b[0m, in \u001b[0;36mCompose.__call__\u001b[1;34m(self, img)\u001b[0m\n\u001b[0;32m     93\u001b[0m \u001b[38;5;28;01mdef\u001b[39;00m \u001b[38;5;21m__call__\u001b[39m(\u001b[38;5;28mself\u001b[39m, img):\n\u001b[0;32m     94\u001b[0m     \u001b[38;5;28;01mfor\u001b[39;00m t \u001b[38;5;129;01min\u001b[39;00m \u001b[38;5;28mself\u001b[39m\u001b[38;5;241m.\u001b[39mtransforms:\n\u001b[1;32m---> 95\u001b[0m         img \u001b[38;5;241m=\u001b[39m \u001b[43mt\u001b[49m\u001b[43m(\u001b[49m\u001b[43mimg\u001b[49m\u001b[43m)\u001b[49m\n\u001b[0;32m     96\u001b[0m     \u001b[38;5;28;01mreturn\u001b[39;00m img\n",
      "File \u001b[1;32mc:\\Users\\ronyf\\anaconda3\\Lib\\site-packages\\torchvision\\transforms\\transforms.py:137\u001b[0m, in \u001b[0;36mToTensor.__call__\u001b[1;34m(self, pic)\u001b[0m\n\u001b[0;32m    129\u001b[0m \u001b[38;5;28;01mdef\u001b[39;00m \u001b[38;5;21m__call__\u001b[39m(\u001b[38;5;28mself\u001b[39m, pic):\n\u001b[0;32m    130\u001b[0m \u001b[38;5;250m    \u001b[39m\u001b[38;5;124;03m\"\"\"\u001b[39;00m\n\u001b[0;32m    131\u001b[0m \u001b[38;5;124;03m    Args:\u001b[39;00m\n\u001b[0;32m    132\u001b[0m \u001b[38;5;124;03m        pic (PIL Image or numpy.ndarray): Image to be converted to tensor.\u001b[39;00m\n\u001b[1;32m   (...)\u001b[0m\n\u001b[0;32m    135\u001b[0m \u001b[38;5;124;03m        Tensor: Converted image.\u001b[39;00m\n\u001b[0;32m    136\u001b[0m \u001b[38;5;124;03m    \"\"\"\u001b[39;00m\n\u001b[1;32m--> 137\u001b[0m     \u001b[38;5;28;01mreturn\u001b[39;00m \u001b[43mF\u001b[49m\u001b[38;5;241;43m.\u001b[39;49m\u001b[43mto_tensor\u001b[49m\u001b[43m(\u001b[49m\u001b[43mpic\u001b[49m\u001b[43m)\u001b[49m\n",
      "File \u001b[1;32mc:\\Users\\ronyf\\anaconda3\\Lib\\site-packages\\torchvision\\transforms\\functional.py:175\u001b[0m, in \u001b[0;36mto_tensor\u001b[1;34m(pic)\u001b[0m\n\u001b[0;32m    173\u001b[0m img \u001b[38;5;241m=\u001b[39m img\u001b[38;5;241m.\u001b[39mpermute((\u001b[38;5;241m2\u001b[39m, \u001b[38;5;241m0\u001b[39m, \u001b[38;5;241m1\u001b[39m))\u001b[38;5;241m.\u001b[39mcontiguous()\n\u001b[0;32m    174\u001b[0m \u001b[38;5;28;01mif\u001b[39;00m \u001b[38;5;28misinstance\u001b[39m(img, torch\u001b[38;5;241m.\u001b[39mByteTensor):\n\u001b[1;32m--> 175\u001b[0m     \u001b[38;5;28;01mreturn\u001b[39;00m \u001b[43mimg\u001b[49m\u001b[38;5;241;43m.\u001b[39;49m\u001b[43mto\u001b[49m\u001b[43m(\u001b[49m\u001b[43mdtype\u001b[49m\u001b[38;5;241;43m=\u001b[39;49m\u001b[43mdefault_float_dtype\u001b[49m\u001b[43m)\u001b[49m\u001b[38;5;241;43m.\u001b[39;49m\u001b[43mdiv\u001b[49m\u001b[43m(\u001b[49m\u001b[38;5;241;43m255\u001b[39;49m\u001b[43m)\u001b[49m\n\u001b[0;32m    176\u001b[0m \u001b[38;5;28;01melse\u001b[39;00m:\n\u001b[0;32m    177\u001b[0m     \u001b[38;5;28;01mreturn\u001b[39;00m img\n",
      "\u001b[1;31mKeyboardInterrupt\u001b[0m: "
     ]
    }
   ],
   "source": [
    "class Classifier(nn.Module):\n",
    "    def __init__(self):\n",
    "        super(Classifier, self).__init__()\n",
    "\n",
    "        self.layer1 = nn.Linear(28*28, 10, bias=True)\n",
    "        self.prob = nn.LogSoftmax(dim = 1)\n",
    "\n",
    "    def forward(self, x):\n",
    "        x = self.layer1(x)\n",
    "        x = self.prob(x)\n",
    "        return x\n",
    "    \n",
    "model = Classifier()\n",
    "criterion = nn.NLLLoss()\n",
    "optimizer = optim.SGD(model.parameters(), lr = 0.001)\n",
    "\n",
    "J_history = []\n",
    "num_epochs=1000\n",
    "for epoch in range(num_epochs):\n",
    "    tot_loss = 0\n",
    "\n",
    "    for i, (inputs, labels) in enumerate(train_dataloader):\n",
    "        inputs = inputs.reshape(inputs.shape[0], -1)\n",
    "        optimizer.zero_grad()\n",
    "        pred = model(inputs)\n",
    "        loss = criterion(pred, labels)\n",
    "        loss.backward()\n",
    "        optimizer.step()\n",
    "        tot_loss += loss.item()\n",
    "\n",
    "        if i % 300 == 0:\n",
    "            print(f'Epoch [{epoch + 1} / {num_epochs}] -- {i + 1} | Loss: {loss.item():.4f}')\n",
    "    \n",
    "    J_history += [tot_loss]"
   ]
  },
  {
   "cell_type": "code",
   "execution_count": null,
   "metadata": {},
   "outputs": [],
   "source": [
    "plt.plot(J_history)\n",
    "plt.title('Convergence Plot of Gradient Descent')\n",
    "plt.xlabel('Number of Epochs')\n",
    "plt.ylabel('J')\n",
    "plt.show()"
   ]
  }
 ],
 "metadata": {
  "kernelspec": {
   "display_name": "base",
   "language": "python",
   "name": "python3"
  },
  "language_info": {
   "codemirror_mode": {
    "name": "ipython",
    "version": 3
   },
   "file_extension": ".py",
   "mimetype": "text/x-python",
   "name": "python",
   "nbconvert_exporter": "python",
   "pygments_lexer": "ipython3",
   "version": "3.11.5"
  }
 },
 "nbformat": 4,
 "nbformat_minor": 2
}
