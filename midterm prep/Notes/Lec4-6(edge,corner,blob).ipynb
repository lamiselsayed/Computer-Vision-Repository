{
 "cells": [
  {
   "cell_type": "markdown",
   "metadata": {},
   "source": [
    "# Functions"
   ]
  },
  {
   "cell_type": "markdown",
   "metadata": {},
   "source": [
    "## <span style=\"color: cyan; font-weight:bold\">Edge Detection </span>\n",
    "- <span style=\"color: pink\"><b>cv2.filter2D</b>(src, ddepth, kernel) </span>\n",
    "\n",
    "    <u>Notes</u>:\n",
    "    - src is the input image\n",
    "    - ddepth is the desired depth of the output (write -1 f you want to keep the same depth as the input)\n",
    "    - kernel is the convolution kernel to be used\n",
    "\n",
    "- <span style=\"color: pink\"><b>cv2.Sobel</b>(src, ddepth, dx, dy, ksize) </span>\n",
    "\n",
    "    <u>Notes</u>:\n",
    "    - Edge detection filter\n",
    "    - Computes an approximation of the gradient of the image intensity\n",
    "    - Effective for detecting in the x and y directions \n",
    "    - Specify 1 for dx or dy (depends on which direction you want)\n",
    "\n",
    "- <span style=\"color: pink\"><b>cv2.Canny</b>(image, threshold1, threshold2) </span>\n",
    "\n",
    "    <u>Notes</u>:\n",
    "    - Does the full process of edge detection\n",
    "    - threshold1 and threshold2 are t and T respectively\n",
    "    - Includes gaussian blur, gradient calculation, non-maximum suppression, double thresholding, and edge tracking by hysteresis"
   ]
  },
  {
   "cell_type": "markdown",
   "metadata": {},
   "source": [
    "## <span style=\"color: cyan; font-weight:bold\">Corner Detection </span>\n",
    "- <span style=\"color: pink\"><b>cv2.cornerHarris</b>(image, blockSize, ksize, k) </span>\n",
    "\n",
    "    <u>Notes</u>:\n",
    "    - Creates a Harris Corner detector\n",
    "    - blockSize is the size of the window on which we'll compute the harris matrix\n",
    "        - Increasing the window means the corner we want may not be localized\n",
    "    - ksize is the Sobel Operator size\n",
    "    - k is a scalar that affects the sensitivity to corners \n",
    "        - bigger k = less false corners/ get only the strongest corners\n",
    "        - lower k = more false corners\n",
    "\n",
    "- <span style=\"color: pink\"><b>cv2.dilate</b>(distances, None) </span>\n",
    "\n",
    "    <u>Notes</u>:\n",
    "    - Helps to expand and strengthen the regions where corners are detected\n",
    "    - Increases the size of the corner regions in the map\n",
    "    - Returns distances "
   ]
  },
  {
   "cell_type": "markdown",
   "metadata": {},
   "source": [
    "## <span style=\"color: cyan; font-weight:bold\">Blob Detection </span>\n",
    "- <span style=\"color: pink\"><b>cv2.SimpleBlobDetector_create</b>(params) </span>\n",
    "\n",
    "    <u>Notes</u>:\n",
    "    - Creates an instance of the SimpleBlobDetector\n",
    "    - params is optional\n",
    "\n",
    "- <span style=\"color: pink\"><b>cv2.SimpleBlobDetector_Params</b>() </span>\n",
    "\n",
    "    <u>Notes</u>:\n",
    "    - Creates an object to hold the parameters for blob detection\n",
    "\n",
    "    <u>Related Functions</u>:\n",
    "    - params.filterByArea\n",
    "        - If set to Trye, it enables the filter based on the area of the blobs\n",
    "    - params.minArea\n",
    "        - Specifies the minimum area for the blob to be considered \n",
    "        - Blobs with an area smaller than this param will be ignored\n",
    "    - params.maxArea\n",
    "    - params.filterByCircularity:\n",
    "        - If set to true, it enables the filter based on the circularity of the blobs\n",
    "    - params.minCircularity\n",
    "    - params.filterByColor:\n",
    "        - If set to true, it enables the filter based on the color \n",
    "    - params.blobColor:\n",
    "        - Specifies the color (0 or 255) that the blobs should have\n",
    "\n",
    "- <span style=\"color: pink\"><b>cv2.filter2D</b>(image, cv2.CV_32F, laplace_kernel) </span>\n",
    "\n",
    "    <u>Notes</u>:\n",
    "    - Used to apply the filter of the laplace on the image \n",
    "\n",
    "- <span style=\"color: pink\"><b>cv2.getDerivKernels</b>(dx,dy,ksize,normalize) </span>\n",
    "\n",
    "    <u>Notes</u>:\n",
    "    - Used to get the laplace in terms of x and y\n",
    "    - Can only do dx or dy at a time\n",
    "    - ksize must be odd\n",
    "    - Normalize is often set to True\n"
   ]
  }
 ],
 "metadata": {
  "kernelspec": {
   "display_name": "base",
   "language": "python",
   "name": "python3"
  },
  "language_info": {
   "name": "python",
   "version": "3.11.5"
  }
 },
 "nbformat": 4,
 "nbformat_minor": 2
}
