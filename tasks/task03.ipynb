{
 "cells": [
  {
   "cell_type": "code",
   "execution_count": 2,
   "id": "55363976-ebc9-42d5-843e-918dfcfd538f",
   "metadata": {},
   "outputs": [],
   "source": [
    "import numpy as np\n",
    "import cv2 as cv\n",
    "from matplotlib import pyplot as plt"
   ]
  },
  {
   "cell_type": "code",
   "execution_count": 5,
   "id": "792c7de6-62b4-401e-bc44-411c23481abf",
   "metadata": {},
   "outputs": [],
   "source": [
    "def to_homogeneous(coordinates):\n",
    "    \"\"\"\n",
    "    Convert 2D coordinates to homogeneous coordinates.\n",
    "    \n",
    "    Args:\n",
    "        coordinates (numpy.ndarray): Array of 2D coordinates of shape (N, 2).\n",
    "    \n",
    "    Returns:\n",
    "        numpy.ndarray: Array of homogeneous coordinates of shape (N, 3).\n",
    "    \"\"\"\n",
    "    # Check if the input array is a NumPy array\n",
    "    if not isinstance(coordinates, np.ndarray):\n",
    "        raise ValueError(\"Input must be a NumPy array\")\n",
    "    \n",
    "    # Check if the input array has the correct shape\n",
    "    if coordinates.shape[1] != 2:\n",
    "        raise ValueError(\"Input array must have shape (N, 2)\")\n",
    "    \n",
    "    # Add a column of ones to the coordinates to make them homogeneous\n",
    "    homogeneous_coordinates = np.hstack((coordinates, np.ones((coordinates.shape[0], 1))))\n",
    "    \n",
    "    return homogeneous_coordinates"
   ]
  },
  {
   "cell_type": "code",
   "execution_count": 6,
   "id": "700a94d9-7172-4dc5-8175-e64d968b8d01",
   "metadata": {},
   "outputs": [],
   "source": [
    "img1 = cv.imread('.././data/images/left1.jpg', cv.IMREAD_GRAYSCALE) \n",
    "img2 = cv.imread('.././data/images/right1.jpg', cv.IMREAD_GRAYSCALE) \n",
    " \n",
    "sift = cv.SIFT_create() \n",
    "# find the keypoints and descriptors with SIFT\n",
    "kp1, des1 = sift.detectAndCompute(img1,None)\n",
    "kp2, des2 = sift.detectAndCompute(img2,None)\n",
    " \n",
    "# Create BFMatcher (Brute Force Matcher)\n",
    "bf = cv.BFMatcher()\n",
    "matches = bf.knnMatch(des1,des2, k=2)\n",
    "\n",
    "pts1 = []\n",
    "pts2 = [] \n",
    "# ratio test as per Lowe's paper\n",
    "for i,(m,n) in enumerate(matches):\n",
    " if m.distance < 0.8*n.distance:\n",
    "     pts1.append(kp1[m.queryIdx].pt)\n",
    "     pts2.append(kp2[m.trainIdx].pt)"
   ]
  },
  {
   "cell_type": "code",
   "execution_count": 7,
   "id": "32e08621-4f9e-4dcb-aec9-67b79eca3d1c",
   "metadata": {},
   "outputs": [],
   "source": [
    "# Finding Fundamental matrix\n",
    "pts1_ = np.array(pts1)\n",
    "pts2_ = np.array(pts2)\n",
    "F, mask = cv.findFundamentalMat(pts1_, pts2_, cv.RANSAC)\n",
    "\n",
    "# We select only inlier points\n",
    "pts1_ = pts1_[mask.ravel()==1]\n",
    "pts2_ = pts2_[mask.ravel()==1]"
   ]
  },
  {
   "cell_type": "markdown",
   "id": "002034c2-f29e-4c1c-a41a-da61ce7cdf77",
   "metadata": {},
   "source": [
    "### Compute the Epipolar \n",
    "#cv.computeCorrespondEpilines\n",
    "\n",
    "To find two points on the epipolar line that lie on the image boundary, we can exploit the equation of the line, which is obtained by multiplying a point in one image by the fundamental matrix. The equation of the line is given by:\n",
    "\n",
    "$ l = F \\cdot p $\n",
    "\n",
    "Where:\n",
    "- $ l $ is the equation of the epipolar line.\n",
    "- $F $ is the fundamental matrix.\n",
    "- $p$ is a point in one image.\n",
    "\n",
    "The equation of a line in 2D can be represented as:\n",
    "\n",
    "$ ax + by + c = 0$\n",
    "\n",
    "So, for the epipolar line, \\( l \\), we have:\n",
    "\n",
    "$ ax + by + c = 0 $\n",
    "\n",
    "Given a line in this form, we can find two points on this line that lie on the image boundary by setting one of the coordinates to either 0 or the width/height of the image (depending on which boundary we want to intersect). Then, we solve for the other coordinate.\n",
    "\n",
    "\n",
    "1. **Point on the Left Boundary**: To find a point on the left boundary (x = 0), we set \\( x = 0 \\) in the equation of the line \\( ax + by + c = 0 \\) and solve for \\( y \\). This gives us the coordinates of the point (0, \\( y_0 \\)).\n",
    "\n",
    "2. **Point on the Right Boundary**: Similarly, to find a point on the right boundary (x = image width), we set \\( x = \\text{image width} \\) in the equation of the line \\( ax + by + c = 0 \\) and solve for \\( y \\). This gives us the coordinates of the point (\\( \\text{image width} \\), \\( y_1 \\)).\n",
    "\n",
    "Once we have these two points, we can draw a line segment connecting them, which represents the epipolar line on the image.\n",
    "\n",
    "In Python code, this process is implemented as follows:\n",
    "\n",
    "```python\n",
    "# Find a point on the left boundary (x = 0)\n",
    "y0 = -c / b\n",
    "\n",
    "# Find a point on the right boundary (x = image.shape[1])\n",
    "y1 = (-c - a * image.shape[1]) / b\n",
    "```\n",
    "\n",
    "These points (0, \\( y_0 \\)) and (\\( width \\), \\( y_1 \\)) are the two points on the epipolar line that lie on the image boundary."
   ]
  },
  {
   "cell_type": "code",
   "execution_count": 8,
   "id": "939b8305-83b4-4544-90d9-60e244364563",
   "metadata": {},
   "outputs": [],
   "source": [
    "# TODO"
   ]
  },
  {
   "cell_type": "code",
   "execution_count": null,
   "id": "4a5bdaa2-abfe-4398-8fde-2c5aa3e2a89a",
   "metadata": {},
   "outputs": [],
   "source": []
  }
 ],
 "metadata": {
  "kernelspec": {
   "display_name": "Python 3 (ipykernel)",
   "language": "python",
   "name": "python3"
  },
  "language_info": {
   "codemirror_mode": {
    "name": "ipython",
    "version": 3
   },
   "file_extension": ".py",
   "mimetype": "text/x-python",
   "name": "python",
   "nbconvert_exporter": "python",
   "pygments_lexer": "ipython3",
   "version": "3.10.10"
  }
 },
 "nbformat": 4,
 "nbformat_minor": 5
}
