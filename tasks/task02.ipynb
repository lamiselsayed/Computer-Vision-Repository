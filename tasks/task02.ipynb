{
 "cells": [
  {
   "cell_type": "code",
   "execution_count": 7,
   "id": "a0d748d7-3153-4541-85a9-4c3374b3c43c",
   "metadata": {},
   "outputs": [],
   "source": [
    "#!pip install torch torchvision\n",
    "import torch\n",
    "from torch import nn\n",
    "from torch import optim\n",
    "\n",
    "import numpy as np\n",
    "from matplotlib import pyplot as plt\n",
    "\n",
    "from torch.utils.data import Dataset\n",
    "from torch.utils.data import DataLoader\n",
    "from torchvision import datasets\n",
    "from torchvision import transforms\n",
    "from torchvision.transforms import ToTensor"
   ]
  },
  {
   "cell_type": "markdown",
   "id": "8746d925-9716-4608-9755-ec0b538ed845",
   "metadata": {},
   "source": [
    "## Task 1: Linear case\n",
    "\n",
    "Use perceptron to "
   ]
  },
  {
   "cell_type": "code",
   "execution_count": 8,
   "id": "e0682f66-554c-4680-9876-dcba5a44d630",
   "metadata": {},
   "outputs": [],
   "source": [
    "np.random.seed(42)\n",
    "x_data = np.sort(-2. + 4. * np.random.rand(20))\n",
    "y_data = 5. * x_data + 2.5 + np.random.randn(20)\n"
   ]
  },
  {
   "cell_type": "code",
   "execution_count": 11,
   "id": "e20a28fe-013b-4b50-bfb3-42dfd8f2ed9c",
   "metadata": {},
   "outputs": [],
   "source": [
    "#TODO\n"
   ]
  },
  {
   "cell_type": "markdown",
   "id": "18380163-b2a4-49a5-a730-75ae0df67a23",
   "metadata": {},
   "source": [
    "## Task 2: Non-Linear case\n",
    "\n",
    "Design a 2 hidden layer neural network to predict the following synthetic dataset"
   ]
  },
  {
   "cell_type": "code",
   "execution_count": 10,
   "id": "7a554442-4858-4434-ba15-e028fa766ac8",
   "metadata": {},
   "outputs": [],
   "source": [
    "# Generate synthetic data for number of hours spend on video games vs happiness level\n",
    "np.random.seed(42)\n",
    "hours = torch.linspace(0, 14, 100).view(-1, 1) # 100 numbers between 0 and 14\n",
    "happiness = 10 + 2 * hours + 0.2*np.random.normal(0, 5, 100).astype(np.float32).reshape(-1,1) - 0.2 * hours**2\n",
    "x = hours\n",
    "y = happiness\n"
   ]
  },
  {
   "cell_type": "code",
   "execution_count": null,
   "id": "8d4eb224-fb0f-4c22-bb72-c0708a8bc9ae",
   "metadata": {},
   "outputs": [],
   "source": [
    "#TODO\n"
   ]
  },
  {
   "cell_type": "markdown",
   "id": "802d2b79-c07d-4611-aa40-1728b736c749",
   "metadata": {},
   "source": [
    "## Task 3: MNIST Classification\n",
    "\n",
    "Build a classifier to classify MNIST dataset"
   ]
  },
  {
   "cell_type": "code",
   "execution_count": 9,
   "id": "52572b6b-524e-4125-b300-c4ba8eaca7f6",
   "metadata": {},
   "outputs": [],
   "source": [
    "training_data = datasets.MNIST(\n",
    "    root='~/Downloads/',\n",
    "    train=True,\n",
    "    download=True,\n",
    "    transform=transforms.Compose([\n",
    "              transforms.ToTensor()])\n",
    ")\n",
    "test_data = datasets.MNIST(\n",
    "    root='~/Downloads/',\n",
    "    train=False,\n",
    "    download=True,\n",
    "    transform=ToTensor()\n",
    ")\n",
    "batchsize = 64\n",
    "train_dataloader = DataLoader(training_data, batch_size=batchsize, shuffle=True)\n",
    "test_dataloader = DataLoader(test_data, batch_size=8, shuffle=True)"
   ]
  },
  {
   "cell_type": "code",
   "execution_count": null,
   "id": "c168ef3f-5467-4d61-870b-7890ff166fad",
   "metadata": {},
   "outputs": [],
   "source": [
    "#TODO\n"
   ]
  }
 ],
 "metadata": {
  "kernelspec": {
   "display_name": "Python 3 (ipykernel)",
   "language": "python",
   "name": "python3"
  },
  "language_info": {
   "codemirror_mode": {
    "name": "ipython",
    "version": 3
   },
   "file_extension": ".py",
   "mimetype": "text/x-python",
   "name": "python",
   "nbconvert_exporter": "python",
   "pygments_lexer": "ipython3",
   "version": "3.9.18"
  }
 },
 "nbformat": 4,
 "nbformat_minor": 5
}
