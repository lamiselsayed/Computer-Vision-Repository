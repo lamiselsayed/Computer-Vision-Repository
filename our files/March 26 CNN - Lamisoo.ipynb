{
 "cells": [
  {
   "cell_type": "code",
   "execution_count": 3,
   "metadata": {},
   "outputs": [],
   "source": [
    "import torch\n",
    "from torch import nn, optim                             \n",
    "from torch.utils.data import Dataset, DataLoader\n",
    "from torchvision import datasets, transforms\n",
    "from torchvision.transforms import ToTensor\n",
    "\n",
    "import numpy as np\n",
    "from matplotlib import pyplot as plt"
   ]
  },
  {
   "cell_type": "code",
   "execution_count": 4,
   "metadata": {},
   "outputs": [
    {
     "name": "stdout",
     "output_type": "stream",
     "text": [
      "Downloading https://www.cs.toronto.edu/~kriz/cifar-10-python.tar.gz to C:\\Users\\user/Downloads/cifar-10-python.tar.gz\n"
     ]
    },
    {
     "name": "stderr",
     "output_type": "stream",
     "text": [
      "100%|██████████| 170498071/170498071 [18:56<00:00, 150013.28it/s]\n"
     ]
    },
    {
     "name": "stdout",
     "output_type": "stream",
     "text": [
      "Extracting C:\\Users\\user/Downloads/cifar-10-python.tar.gz to C:\\Users\\user/Downloads/\n"
     ]
    }
   ],
   "source": [
    "torch.manual_seed(0)\n",
    "\n",
    "transform = transforms.Compose([transforms.ToTensor(), transforms.Normalize((0.5, 0.5, 0.5), (0.5, 0.5, 0.5))])\n",
    "# SD of all pixels should be 1\n",
    "# 0.5, 0.5, 0.5 -- RGB\n",
    "# first set of 0.5 0.5 0.5 represents the means of each channel\n",
    "# second set of 0.5 0.5 0.5 represents the SDs of each channel\n",
    "# for each pixel value, subtract from it 0.5 (mean; need to get the mean from the training examples) and divide it by 0.5 (dividing so that when we compute the SD, it's going to give us 1)\n",
    "# the transform function automatically does it, vals between -1 and 1, SD = 1\n",
    "\n",
    "trainset = datasets.CIFAR10(\n",
    "    root = '~/Downloads/',\n",
    "    train = True,\n",
    "    download = True,\n",
    "    transform = transform \n",
    ")\n",
    "testset = datasets.MNIST(\n",
    "    root = '~/Downloads/',\n",
    "    train = False,\n",
    "    download = True,\n",
    "    transform = transform \n",
    ")\n",
    "\n",
    "batchSize = 64\n",
    "train_dataloader = DataLoader(trainset, batch_size = batchSize, shuffle = True)\n",
    "test_dataloader = DataLoader(testset, batch_size = 8, shuffle = True)"
   ]
  },
  {
   "cell_type": "code",
   "execution_count": 8,
   "metadata": {},
   "outputs": [
    {
     "data": {
      "text/plain": [
       "torch.Size([3, 32, 32])"
      ]
     },
     "execution_count": 8,
     "metadata": {},
     "output_type": "execute_result"
    }
   ],
   "source": [
    "trainset[0]             # returns X (image) and Y (label)\n",
    "trainset[0][0]          # image is contained at index 0\n",
    "trainset.classes        # returns a list of all classes\n",
    "trainset[0][0].shape    # size of the image is 3 x 32 x 32 (in PyTorch, depth is first), but you need to reshape if you want to view it using plt\n",
    "                        # instead of all this, we'll use a transformation, normalize it but with -1 instead of the mean and 2 for SD\n",
    "                        # this will give us back the original image (see next cell)"
   ]
  },
  {
   "cell_type": "code",
   "execution_count": 15,
   "metadata": {},
   "outputs": [
    {
     "data": {
      "text/plain": [
       "<matplotlib.image.AxesImage at 0x20bc5b85ac0>"
      ]
     },
     "execution_count": 15,
     "metadata": {},
     "output_type": "execute_result"
    },
    {
     "data": {
      "image/png": "[encoded data removed]",
      "text/plain": [
       "<Figure size 640x480 with 1 Axes>"
      ]
     },
     "metadata": {},
     "output_type": "display_data"
    }
   ],
   "source": [
    "transform_back = transforms.Compose([transforms.Normalize((-1.,-1.,-1.),(2.,2.,2.)), transforms.ToPILImage()])\n",
    "# PIL takes care of changing the shape and the visualization\n",
    "\n",
    "plt.imshow(transform_back(trainset[0][0]))"
   ]
  }
 ],
 "metadata": {
  "kernelspec": {
   "display_name": "deep_learning1",
   "language": "python",
   "name": "python3"
  },
  "language_info": {
   "codemirror_mode": {
    "name": "ipython",
    "version": 3
   },
   "file_extension": ".py",
   "mimetype": "text/x-python",
   "name": "python",
   "nbconvert_exporter": "python",
   "pygments_lexer": "ipython3",
   "version": "3.9.18"
  }
 },
 "nbformat": 4,
 "nbformat_minor": 2
}
