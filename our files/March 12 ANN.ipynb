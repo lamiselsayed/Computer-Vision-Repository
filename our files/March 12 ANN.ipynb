{
 "cells": [
  {
   "cell_type": "code",
   "execution_count": 1,
   "metadata": {},
   "outputs": [],
   "source": [
    "import torch\n",
    "import numpy as np"
   ]
  },
  {
   "cell_type": "markdown",
   "metadata": {},
   "source": [
    "#### Building a Perceptron Manually"
   ]
  },
  {
   "cell_type": "code",
   "execution_count": 3,
   "metadata": {},
   "outputs": [
    {
     "name": "stdout",
     "output_type": "stream",
     "text": [
      "Forward Pass, h = 3.0\n",
      "Backward Pass, Derivatives = tensor([ 4., 16., -8.])\n",
      "Weights Update, w = tensor([-1., -7.,  5.], grad_fn=<SubBackward0>)\n"
     ]
    }
   ],
   "source": [
    "# Hypothesis Function --> h = w ^ T * x\n",
    "x = torch.tensor([1., 4., -2.])\n",
    "y = torch.tensor([1.])\n",
    "w = torch.tensor([1., 1., 1.], requires_grad = True)    # computing the derivative with respect to w --> set requires_grad to True\n",
    "h = torch.matmul(w, x)                                  # computing the dot product (output) --> Step 1: Forward Pass\n",
    "print(f'Forward Pass, h = {h}')\n",
    "\n",
    "J = (h - y) ** 2                                        # Squared Loss\n",
    "J.backward()\n",
    "print(f'Backward Pass, Derivatives = {w.grad}')         # Computing the derivatives --> Step 2: Backward Pass\n",
    "w = w - 0.5 * w.grad                                    # Step 3 --> Update the weights of w by old vals of w so that we are better able to estimate y\n",
    "                                                        # alpha is 0.5 here\n",
    "print(f'Weights Update, w = {w}')"
   ]
  },
  {
   "cell_type": "markdown",
   "metadata": {},
   "source": [
    "#### Building a Perceptron Using PyTorch"
   ]
  },
  {
   "cell_type": "code",
   "execution_count": 13,
   "metadata": {},
   "outputs": [],
   "source": [
    "from torch import nn\n",
    "from torch import optim                                 # used to compute the derivative"
   ]
  },
  {
   "cell_type": "code",
   "execution_count": 5,
   "metadata": {},
   "outputs": [
    {
     "data": {
      "text/plain": [
       "torch.Size([1, 2])"
      ]
     },
     "execution_count": 5,
     "metadata": {},
     "output_type": "execute_result"
    }
   ],
   "source": [
    "x = torch.tensor([[4., -2.]])                           # one sample (4, -2 are the inputs)\n",
    "x.shape"
   ]
  },
  {
   "cell_type": "code",
   "execution_count": 10,
   "metadata": {},
   "outputs": [],
   "source": [
    "y = torch.tensor([[1.]])\n",
    "h = nn.Linear(2, 1, bias = True)                        # h = wx + b\n",
    "                                                        # input dimension = 2 (2 features), output dimension = 1\n",
    "h.weight = nn.Parameter(torch.tensor([[1., 1.]]))\n",
    "h.bias = nn.Parameter(torch.tensor([[1.]]))"
   ]
  },
  {
   "cell_type": "code",
   "execution_count": 11,
   "metadata": {},
   "outputs": [
    {
     "data": {
      "text/plain": [
       "Parameter containing:\n",
       "tensor([[1.]], requires_grad=True)"
      ]
     },
     "execution_count": 11,
     "metadata": {},
     "output_type": "execute_result"
    }
   ],
   "source": [
    "h.bias"
   ]
  },
  {
   "cell_type": "code",
   "execution_count": 14,
   "metadata": {},
   "outputs": [
    {
     "name": "stdout",
     "output_type": "stream",
     "text": [
      "Forward Pass, h = Linear(in_features=2, out_features=1, bias=True)\n",
      "Backward Pass, Derivatives = tensor([[4.]]) tensor([[16., -8.]])\n",
      "Weights Update, w = [[-1.]] [[-7.  5.]]\n"
     ]
    }
   ],
   "source": [
    "optimizer = optim.SGD(h.parameters(), lr = 0.5)           # need to optimize all the parameters of the model h\n",
    "cost =  nn.MSELoss()                                      # specify the costs (manually, done through J, here done through mean square loss error)\n",
    "\n",
    "# Now do all 3 steps\n",
    "\n",
    "# One Iteration of the Backpropagation Algorithm\n",
    "optimizer.zero_grad()                                     # at every iteration, this needs to be there (reseting)\n",
    "out = h(x)\n",
    "print(f'Forward Pass, h = {h}')\n",
    "loss = cost(out, y)\n",
    "loss.backward()\n",
    "print(f'Backward Pass, Derivatives = {h.bias.grad} {h.weight.grad}')\n",
    "optimizer.step()\n",
    "print(f'Weights Update, w = {h.bias.detach().numpy()} {h.weight.detach().numpy()}')     # detaching because it lives on the GPU, to use it, bring it to your CPU     \n",
    "                                                                                        # no need to attach again if you want to use it"
   ]
  }
 ],
 "metadata": {
  "kernelspec": {
   "display_name": "deep_learning1",
   "language": "python",
   "name": "python3"
  },
  "language_info": {
   "codemirror_mode": {
    "name": "ipython",
    "version": 3
   },
   "file_extension": ".py",
   "mimetype": "text/x-python",
   "name": "python",
   "nbconvert_exporter": "python",
   "pygments_lexer": "ipython3",
   "version": "3.9.18"
  }
 },
 "nbformat": 4,
 "nbformat_minor": 2
}
