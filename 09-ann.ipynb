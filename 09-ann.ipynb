{
 "cells": [
  {
   "cell_type": "code",
   "execution_count": 3,
   "id": "a7312f5a-1159-47d3-9c85-a1ec2ac1136c",
   "metadata": {},
   "outputs": [],
   "source": [
    "#!pip install torch torchvision\n",
    "import torch\n",
    "from torch import nn\n",
    "from torch import optim                             # used to compute the derivative\n",
    "from torch.utils.data import Dataset\n",
    "from torch.utils.data import DataLoader\n",
    "from torchvision import datasets\n",
    "from torchvision import transforms\n",
    "from torchvision.transforms import ToTensor\n",
    "\n",
    "import numpy as np\n",
    "from matplotlib import pyplot as plt\n",
    "\n",
    "from IPython.display import Markdown"
   ]
  },
  {
   "cell_type": "markdown",
   "id": "cf42e727-fc4d-40ca-a9d3-a38a81916e90",
   "metadata": {},
   "source": [
    "# PyTorch"
   ]
  },
  {
   "cell_type": "markdown",
   "id": "01999463-c74a-4ffd-9b5b-a29d437d3cd8",
   "metadata": {},
   "source": [
    "PyTorch is an open source machine learning library based on the Torch library, used for applications such as computer vision and natural language processing, primarily developed by Facebook's AI Research lab. It is free and open-source software released under the Modified BSD license"
   ]
  },
  {
   "cell_type": "markdown",
   "id": "2b99098e-2884-4d30-b2e2-a33edfce45c7",
   "metadata": {},
   "source": [
    "## PyTorch Tensors\n",
    "Tensors are a specialized data structure that are very similar to arrays and matrices. In PyTorch, we use tensors to encode the inputs ($x$) and outputs ($y$) of a model, as well as the model’s parameters (weights).\n",
    "\n",
    "Tensors are similar to NumPy’s ndarrays, except that tensors can run on GPUs or other hardware accelerators. In fact, tensors and NumPy arrays can often share the same underlying memory, eliminating the need to copy data. \n",
    "\n",
    "[Additional Reading](https://pytorch.org/tutorials/beginner/basics/tensor_tutorial.html)"
   ]
  },
  {
   "cell_type": "code",
   "execution_count": 4,
   "id": "78d42989-1288-46a5-b968-ba0d25fe0762",
   "metadata": {},
   "outputs": [
    {
     "name": "stdout",
     "output_type": "stream",
     "text": [
      "torch.int64\n",
      "torch.float16\n",
      "tensor([[1, 1]])\n"
     ]
    }
   ],
   "source": [
    "a = np.array([[1,2],[3,4]])\n",
    "t1 = torch.tensor(a)\n",
    "t2 = torch.from_numpy(a)\n",
    "t3 = torch.tensor([[1,2]])\n",
    "print(t3.dtype)\n",
    "t4 = torch.tensor([[2,3]], dtype=torch.float16)\n",
    "print(t4.dtype)\n",
    "\n",
    "t5 = torch.ones_like(t3)\n",
    "print(t5)\n"
   ]
  },
  {
   "cell_type": "markdown",
   "id": "4a7d6af3-1170-4728-b917-e2eb9de616c8",
   "metadata": {},
   "source": [
    "## Pytorch AutoGrad"
   ]
  },
  {
   "cell_type": "code",
   "execution_count": 5,
   "id": "0b5154d6-67a0-488a-81ba-9a2a4d637793",
   "metadata": {},
   "outputs": [
    {
     "name": "stdout",
     "output_type": "stream",
     "text": [
      "tensor([7.])\n"
     ]
    }
   ],
   "source": [
    "x = torch.tensor([2.0], requires_grad=True)\n",
    "y = x ** 2 + 3 * x + 1\n",
    "y.backward()\n",
    "print(x.grad) # gradient of y w.r.t x at x=2"
   ]
  },
  {
   "cell_type": "markdown",
   "id": "91facfbe-d50d-434d-8bf6-f7b9f1c5a2e6",
   "metadata": {},
   "source": [
    "## Perceptron\n",
    "Build a perceptron featuring three inputs and a single output. Initialize all weights ($𝑤_0$, $𝑤_2$, $𝑤_3$) to 1, considering a bias term. Take a training data point, 𝑥1=4, 𝑥2=-1, and 𝑦=1. Employ the backpropagation algorithm to demonstrate how this neural network evolves during the processing of the given training example. Set the learning rate (𝛼) to 0.5 and utilize the squared loss function."
   ]
  },
  {
   "cell_type": "code",
   "execution_count": 6,
   "id": "0e0ba6b1-45f8-400f-9452-c021577f1110",
   "metadata": {},
   "outputs": [
    {
     "name": "stdout",
     "output_type": "stream",
     "text": [
      "Forward Pass, h= 3.0\n",
      "Backward pass, Derivatives= tensor([ 4., 16., -8.])\n",
      "Weights update, w= tensor([-1., -7.,  5.], grad_fn=<SubBackward0>)\n"
     ]
    }
   ],
   "source": [
    "# Here we are building the perceptron ourselves \n",
    "x = torch.tensor([1., 4., -2.]) \n",
    "y = torch.tensor([1.]) \n",
    "w = torch.tensor([1., 1., 1.], requires_grad=True)          # computing the derivative with respect to w --> set requires_grad to True\n",
    "h = torch.matmul(w,x)                                       # computing the dot product (output) --> Step 1: Forward Pass\n",
    "print(f'Forward Pass, h= {h}')\n",
    "J = (h-y)**2                                                # Squared loss\n",
    "J.backward()                                                # Computing the derivatives --> Step 2: Backward Pass\n",
    "print(f'Backward pass, Derivatives= {w.grad}')\n",
    "w = w - 0.5*w.grad                                          # Step 3 --> Update the weights of w by old vals of w so that we are better able to estimate y \n",
    "                                                            # alpha is 0.5 here\n",
    "print(f'Weights update, w= {w}')"
   ]
  },
  {
   "cell_type": "code",
   "execution_count": 7,
   "id": "53baa6fb-2568-4ee4-9a51-4426ef037ecb",
   "metadata": {},
   "outputs": [
    {
     "name": "stdout",
     "output_type": "stream",
     "text": [
      "Forward Pass, h= Linear(in_features=2, out_features=1, bias=True)\n",
      "Backward pass, Derivatives= tensor([[4.]]) tensor([[16., -8.]])\n",
      "Weights update, w= [[-1.]] [[-7.  5.]]\n"
     ]
    }
   ],
   "source": [
    "# Using PyTorch Optimizer\n",
    "x = torch.tensor([[4., -2.]])                                # one sample (4, -2 are the inputs) \n",
    "y = torch.tensor([[1.]]) \n",
    "h = nn.Linear(2, 1, bias=True)                               # h = w x + b\n",
    "                                                             # input dimension = 2 (2 features), output dimension = 1\n",
    "h.weight = nn.Parameter(torch.tensor([[1., 1.]]))  \n",
    "h.bias = nn.Parameter(torch.tensor([[1.]]))  \n",
    "\n",
    "optimizer = optim.SGD(h.parameters(), lr = .5)               # gradient descent with learning rate lr\n",
    "                                                             # need to optimize all the parameters of the model h\n",
    "Cost = nn.MSELoss()                                          # mean squared error\n",
    "                                                             # specify the costs (manually, done through J, here done through mean square loss error)\n",
    "\n",
    "# Now do all 3 steps\n",
    "\n",
    "# one iteration of Backpropagation algorithm\n",
    "optimizer.zero_grad()                                        # at every iteration, this needs to be there (reseting)\n",
    "out = h(x)\n",
    "print(f'Forward Pass, h= {h}')\n",
    "loss = Cost(out, y)\n",
    "loss.backward()\n",
    "print(f'Backward pass, Derivatives= {h.bias.grad} {h.weight.grad}')\n",
    "optimizer.step()\n",
    "print(f'Weights update, w= {h.bias.detach().numpy()} {h.weight.detach().numpy()}')    # detaching because it lives on the GPU, to use it, bring it to your CPU\n",
    "                                                                                      # no need to attach again if you want to use it"
   ]
  },
  {
   "cell_type": "markdown",
   "id": "abfaac81-88ee-44eb-b8a3-5cf2912d5d73",
   "metadata": {},
   "source": [
    "## Linear Example"
   ]
  },
  {
   "cell_type": "code",
   "execution_count": 8,
   "id": "11a21c15-c15d-4850-96b0-5edc20f693b9",
   "metadata": {},
   "outputs": [
    {
     "data": {
      "image/png": "[encoded data removed]",
      "text/plain": [
       "<Figure size 640x480 with 1 Axes>"
      ]
     },
     "metadata": {},
     "output_type": "display_data"
    }
   ],
   "source": [
    "np.random.seed(42)\n",
    "x_data = np.sort(-2. + 4. * np.random.rand(20))\n",
    "y_data = 5. * x_data + 2.5 + np.random.randn(20)\n",
    "\n",
    "X = torch.tensor(x_data[:,np.newaxis], dtype=torch.float32)\n",
    "Y = torch.tensor(y_data[:,np.newaxis], dtype=torch.float32)\n",
    "\n",
    "# Linear regression hypothesis using Pytorch\n",
    "h = nn.Linear(1, 1, bias=True) # h = w x + b\n",
    "\n",
    "optimizer = optim.SGD(h.parameters(), lr = .1) # stochastic gradient descent with learning rate lr\n",
    "Cost = nn.MSELoss() # mean squared error\n",
    "\n",
    "for i in range(50):\n",
    "    optimizer.zero_grad()\n",
    "    out = h(X)\n",
    "    loss = Cost(out, Y)\n",
    "    loss.backward()\n",
    "    optimizer.step()\n",
    "\n",
    "plt.plot(x_data, y_data, 'b.')\n",
    "x = torch.tensor(np.linspace(-2.0, 2.0, 100).reshape(-1,1), dtype=torch.float32)\n",
    "y = h(x).detach().numpy()\n",
    "plt.plot(x,y,'r')\n",
    "plt.ylim([-15, 15])\n",
    "plt.xlim([-2, 2])\n",
    "plt.grid('on')\n"
   ]
  },
  {
   "cell_type": "markdown",
   "id": "eb4178a4-1b9d-48f8-a74c-4d30f9ccdb94",
   "metadata": {},
   "source": [
    "## Non-Linear Example\n",
    "\n",
    "We will design a 2-Hidden layers Neural Network to predict the following data"
   ]
  },
  {
   "cell_type": "code",
   "execution_count": 9,
   "id": "d7054b2c-5d1e-4476-bd93-8e038da21db6",
   "metadata": {},
   "outputs": [
    {
     "name": "stdout",
     "output_type": "stream",
     "text": [
      "Epoch [500/10000], Loss: 21.5521\n",
      "Epoch [1000/10000], Loss: 6.1377\n",
      "Epoch [1500/10000], Loss: 4.4687\n",
      "Epoch [2000/10000], Loss: 3.8107\n",
      "Epoch [2500/10000], Loss: 3.0445\n",
      "Epoch [3000/10000], Loss: 2.9134\n",
      "Epoch [3500/10000], Loss: 2.5641\n",
      "Epoch [4000/10000], Loss: 2.5502\n",
      "Epoch [4500/10000], Loss: 2.2456\n",
      "Epoch [5000/10000], Loss: 2.1306\n",
      "Epoch [5500/10000], Loss: 1.9391\n",
      "Epoch [6000/10000], Loss: 1.8814\n",
      "Epoch [6500/10000], Loss: 1.8142\n",
      "Epoch [7000/10000], Loss: 1.7577\n",
      "Epoch [7500/10000], Loss: 1.6940\n",
      "Epoch [8000/10000], Loss: 1.6639\n",
      "Epoch [8500/10000], Loss: 1.7978\n",
      "Epoch [9000/10000], Loss: 1.7284\n",
      "Epoch [9500/10000], Loss: 1.6496\n",
      "Epoch [10000/10000], Loss: 1.6135\n"
     ]
    },
    {
     "data": {
      "text/plain": [
       "Text(0.5, 1.0, 'Synthetic data')"
      ]
     },
     "execution_count": 9,
     "metadata": {},
     "output_type": "execute_result"
    },
    {
     "data": {
      "image/png": "[encoded data removed]",
      "text/plain": [
       "<Figure size 640x480 with 1 Axes>"
      ]
     },
     "metadata": {},
     "output_type": "display_data"
    }
   ],
   "source": [
    "# Generate synthetic data for number of hours spend on video games vs happiness level\n",
    "np.random.seed(42)\n",
    "hours = torch.linspace(0, 14, 100).view(-1, 1) # 100 numbers between 0 and 14\n",
    "happiness = 10 + 2 * hours + 0.2*np.random.normal(0, 5, 100).astype(np.float32).reshape(-1,1) - 0.2 * hours**2\n",
    "x = hours\n",
    "y = happiness\n",
    "# Define a neural network\n",
    "class MyModel(nn.Module):\n",
    "    def __init__(self):\n",
    "        super(MyModel, self).__init__()\n",
    "        self.layer1 = nn.Linear(1, 6, bias=True)  # Input to hidden layer       \n",
    "        self.layer2 = nn.Linear(6, 6)  \n",
    "        self.layer3 = nn.Linear(6, 1)  # Hidden layer to output\n",
    "\n",
    "    def forward(self, x):\n",
    "        x = torch.relu(self.layer1(x))\n",
    "        x = torch.relu(self.layer2(x))\n",
    "        x = self.layer3(x)\n",
    "        return x\n",
    "\n",
    "# Instantiate the model, define loss function, and optimizer\n",
    "model = MyModel()\n",
    "criterion = nn.MSELoss()\n",
    "optimizer = optim.SGD(model.parameters(), lr=0.001)\n",
    "\n",
    "# Train the neural network\n",
    "num_epochs = 10000\n",
    "for epoch in range(num_epochs):\n",
    "    # Forward pass\n",
    "    y_pred = model(x)\n",
    "    # Compute the loss\n",
    "    loss = criterion(y_pred, y)\n",
    "    # Backward pass and optimization\n",
    "    optimizer.zero_grad()\n",
    "    loss.backward()\n",
    "    optimizer.step()\n",
    "\n",
    "    if (epoch + 1) % 500 == 0:\n",
    "        print(f'Epoch [{epoch+1}/{num_epochs}], Loss: {loss.item():.4f}')\n",
    "\n",
    "\n",
    "## Plot the results\n",
    "plt.plot(x,y, '.')\n",
    "out = model(x)\n",
    "plt.plot(x,out.detach().numpy(), 'r')\n",
    "plt.xlabel('Hours playing video games')\n",
    "plt.ylabel('happiness level')\n",
    "plt.title('Synthetic data')"
   ]
  },
  {
   "cell_type": "markdown",
   "id": "1954ca74-5953-4b44-93f3-a4ac952535e5",
   "metadata": {},
   "source": [
    "# MNIST Image Classification\n",
    "### 1.  Loading the MNIST dataset"
   ]
  },
  {
   "cell_type": "code",
   "execution_count": 25,
   "id": "578ce899-4be7-4eef-81dc-f9ce07428c5c",
   "metadata": {
    "scrolled": true
   },
   "outputs": [
    {
     "data": {
      "text/markdown": [
       "\n",
       "The data is contained in the ```training_data.data``` and the labels\n",
       "in ```training_data.targets```.\n",
       "\n",
       "You can also access the data using indexing ```training_data[index]```\n",
       "\n",
       "The ```Dataset``` retrieves our dataset’s features and labels one sample at a time. While training a model, \n",
       "we typically want to pass samples in “minibatches”, reshuffle the data at every epoch to reduce model overfitting\n",
       "\n",
       "```DataLoader``` is an iterable that abstracts this complexity for us in an easy API.\n",
       "\n",
       "```train_features, train_labels = next(iter(train_dataloader))```\n",
       "\n",
       "[Additional Reading](https://pytorch.org/tutorials/beginner/basics/data_tutorial.html)\n"
      ],
      "text/plain": [
       "<IPython.core.display.Markdown object>"
      ]
     },
     "execution_count": 25,
     "metadata": {},
     "output_type": "execute_result"
    }
   ],
   "source": [
    "training_data = datasets.MNIST(\n",
    "    root='~/Downloads/',\n",
    "    train=True,\n",
    "    download=True,\n",
    "    transform=transforms.Compose([\n",
    "              transforms.ToTensor()])\n",
    "              #transforms.Normalize((0.1307,), (0.3081,))])\n",
    ")\n",
    "\n",
    "test_data = datasets.MNIST(\n",
    "    root='~/Downloads/',\n",
    "    train=False,\n",
    "    download=True,\n",
    "    transform=ToTensor()\n",
    ")\n",
    "\n",
    "content = \"\"\"\n",
    "The data is contained in the ```training_data.data``` and the labels\n",
    "in ```training_data.targets```.\n",
    "\n",
    "You can also access the data using indexing ```training_data[index]```\n",
    "\n",
    "The ```Dataset``` retrieves our dataset’s features and labels one sample at a time. While training a model, \n",
    "we typically want to pass samples in “minibatches”, reshuffle the data at every epoch to reduce model overfitting\n",
    "\n",
    "```DataLoader``` is an iterable that abstracts this complexity for us in an easy API.\n",
    "\n",
    "```train_features, train_labels = next(iter(train_dataloader))```\n",
    "\n",
    "[Additional Reading](https://pytorch.org/tutorials/beginner/basics/data_tutorial.html)\n",
    "\"\"\"\n",
    "\n",
    "batchsize = 64\n",
    "train_dataloader = DataLoader(training_data, batch_size=batchsize, shuffle=True)\n",
    "test_dataloader = DataLoader(test_data, batch_size=8, shuffle=True)\n",
    "\n",
    "Markdown(content)"
   ]
  },
  {
   "cell_type": "markdown",
   "id": "7db958e2-51fe-4081-b000-ed7fdc5f7545",
   "metadata": {},
   "source": [
    "### 2.  Create a multiclass logistic regression (softmax) model and train"
   ]
  },
  {
   "cell_type": "code",
   "execution_count": 26,
   "id": "4f68a2d8-e68f-49ed-8f6d-14655dc4d328",
   "metadata": {},
   "outputs": [
    {
     "name": "stdout",
     "output_type": "stream",
     "text": [
      "Epoch 1:1 Loss: 2.327449083328247\n",
      "Epoch 1:301 Loss: 2.0047359466552734\n",
      "Epoch 1:601 Loss: 1.8408522605895996\n",
      "Epoch 1:901 Loss: 1.6400619745254517\n",
      "Epoch 2:1 Loss: 1.7224379777908325\n",
      "Epoch 2:301 Loss: 1.5292153358459473\n",
      "Epoch 2:601 Loss: 1.3850739002227783\n",
      "Epoch 2:901 Loss: 1.2071160078048706\n",
      "Epoch 3:1 Loss: 1.2515912055969238\n",
      "Epoch 3:301 Loss: 1.1319880485534668\n",
      "Epoch 3:601 Loss: 1.0561556816101074\n",
      "Epoch 3:901 Loss: 1.0148967504501343\n",
      "Epoch 4:1 Loss: 1.0119253396987915\n",
      "Epoch 4:301 Loss: 0.9638805389404297\n",
      "Epoch 4:601 Loss: 1.0173121690750122\n",
      "Epoch 4:901 Loss: 0.9642431735992432\n",
      "Epoch 5:1 Loss: 0.9433706402778625\n",
      "Epoch 5:301 Loss: 0.8829295039176941\n",
      "Epoch 5:601 Loss: 0.814598023891449\n",
      "Epoch 5:901 Loss: 0.7617735862731934\n",
      "Epoch 6:1 Loss: 0.9236404895782471\n",
      "Epoch 6:301 Loss: 0.865436315536499\n",
      "Epoch 6:601 Loss: 0.7393324971199036\n",
      "Epoch 6:901 Loss: 0.6283695697784424\n",
      "Epoch 7:1 Loss: 0.7230972051620483\n",
      "Epoch 7:301 Loss: 0.6166161298751831\n",
      "Epoch 7:601 Loss: 0.7566587328910828\n",
      "Epoch 7:901 Loss: 0.6913501620292664\n",
      "Epoch 8:1 Loss: 0.7289365530014038\n",
      "Epoch 8:301 Loss: 0.6073786616325378\n",
      "Epoch 8:601 Loss: 0.6479921340942383\n",
      "Epoch 8:901 Loss: 0.6556854844093323\n",
      "Epoch 9:1 Loss: 0.8530303835868835\n",
      "Epoch 9:301 Loss: 0.6676718592643738\n",
      "Epoch 9:601 Loss: 0.6363521814346313\n",
      "Epoch 9:901 Loss: 0.6857280731201172\n",
      "Epoch 10:1 Loss: 0.7199109792709351\n",
      "Epoch 10:301 Loss: 0.7881742715835571\n",
      "Epoch 10:601 Loss: 0.7168157696723938\n",
      "Epoch 10:901 Loss: 0.5327080488204956\n"
     ]
    }
   ],
   "source": [
    "device = torch.device('cuda:0' if torch.cuda.is_available() else 'cpu')\n",
    "\n",
    "class mnistClassifier(nn.Module):\n",
    "    def __init__(self):\n",
    "        super(mnistClassifier, self).__init__()\n",
    "        self.layer1 = nn.Linear(784, 10, bias=True) \n",
    "        self.prob = nn.LogSoftmax(dim=1)\n",
    "\n",
    "        #self.layer1 = nn.Sequential(nn.Linear(784, 10, bias=True),\n",
    "        #                nn.LogSoftmax(dim=1))\n",
    "\n",
    "    def forward(self, x):\n",
    "        #x = self.prob(self.layer1(x))\n",
    "        x = torch.log_softmax(self.layer1(x), dim=1)\n",
    "        return x\n",
    "        \n",
    "hypothesis = mnistClassifier()\n",
    "\n",
    "optimizer = optim.SGD(hypothesis.parameters(), lr = .001) # stochastic gradient descent with learning rate lr\n",
    "Cost = nn.NLLLoss() # Negative log likelihood loss\n",
    "\n",
    "J_history = []\n",
    "for epoch in range(10):\n",
    "    running_loss = 0\n",
    "    for i, data in enumerate(train_dataloader):\n",
    "        \n",
    "        inputs, labels = data\n",
    "        inputs = inputs.to(device)\n",
    "        labels = labels.to(device)\n",
    "        \n",
    "        inputs = inputs.reshape(inputs.shape[0],-1)\n",
    "        \n",
    "        optimizer.zero_grad()\n",
    "        # forward pass\n",
    "        out = hypothesis(inputs)\n",
    "\n",
    "        loss = Cost(out, labels)\n",
    "\n",
    "        # backward pass\n",
    "        loss.backward()\n",
    "\n",
    "        # update paramters\n",
    "        optimizer.step()\n",
    "\n",
    "        \n",
    "        running_loss += loss.item()\n",
    "        \n",
    "        if i%300 == 0:\n",
    "            print(f'Epoch {epoch+1}:{i+1} Loss: {loss.item()}')\n",
    "            \n",
    "    J_history += [running_loss]"
   ]
  },
  {
   "cell_type": "markdown",
   "id": "42ab59e4-767f-4b09-be7d-ca1306db28a5",
   "metadata": {},
   "source": [
    "### 3. Plot Convergence plot of gradient descent with respect to no of epochs"
   ]
  },
  {
   "cell_type": "code",
   "execution_count": 28,
   "id": "354aa19d-0342-4dc1-9a34-9eccc4599562",
   "metadata": {},
   "outputs": [
    {
     "data": {
      "image/png": "[encoded data removed]",
      "text/plain": [
       "<Figure size 640x480 with 1 Axes>"
      ]
     },
     "metadata": {},
     "output_type": "display_data"
    }
   ],
   "source": [
    "from matplotlib import pyplot as plt\n",
    "plt.plot(J_history)\n",
    "plt.title('Convergence plot of gradient descent')\n",
    "plt.xlabel('No of Epochs')\n",
    "plt.ylabel('J')\n",
    "plt.show()"
   ]
  },
  {
   "cell_type": "markdown",
   "id": "c1e3a641-2ce7-465a-9c96-1328bff933c0",
   "metadata": {},
   "source": [
    "### 4. Test on a batch of test images and display images with the predicted label"
   ]
  },
  {
   "cell_type": "code",
   "execution_count": 30,
   "id": "6e8745f3-facc-41bd-9c3a-d449ddf37bcd",
   "metadata": {},
   "outputs": [
    {
     "data": {
      "image/png": "[encoded data removed]",
      "text/plain": [
       "<Figure size 640x480 with 6 Axes>"
      ]
     },
     "metadata": {},
     "output_type": "display_data"
    }
   ],
   "source": [
    "# test on one batch of test data\n",
    "inputs_im, labels =  next(iter(test_dataloader))\n",
    "inputs = inputs_im.to(device)\n",
    "labels = labels.to(device)\n",
    "inputs = inputs.reshape(inputs.shape[0],-1)\n",
    "out = hypothesis(inputs)\n",
    "pr = torch.argmax(out, dim=1) # predicted labels\n",
    "\n",
    "fig = plt.figure()\n",
    "for i in range(6):\n",
    "    plt.subplot(2,3,i+1)\n",
    "    plt.tight_layout()\n",
    "    im = torch.squeeze(inputs_im[i].detach(), dim=0).numpy()\n",
    "    plt.imshow(im, cmap='gray', interpolation='none')\n",
    "    plt.title(\"Predicted: {}\".format(pr[i]))\n",
    "    plt.xticks([])\n",
    "    plt.yticks([])\n"
   ]
  },
  {
   "cell_type": "code",
   "execution_count": null,
   "id": "aee392db-55b5-49c5-966f-8066ccc23a65",
   "metadata": {},
   "outputs": [],
   "source": []
  }
 ],
 "metadata": {
  "kernelspec": {
   "display_name": "Python 3 (ipykernel)",
   "language": "python",
   "name": "python3"
  },
  "language_info": {
   "codemirror_mode": {
    "name": "ipython",
    "version": 3
   },
   "file_extension": ".py",
   "mimetype": "text/x-python",
   "name": "python",
   "nbconvert_exporter": "python",
   "pygments_lexer": "ipython3",
   "version": "3.9.18"
  }
 },
 "nbformat": 4,
 "nbformat_minor": 5
}
