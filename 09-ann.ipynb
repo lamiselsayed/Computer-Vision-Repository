{
 "cells": [
  {
   "cell_type": "code",
   "execution_count": 1,
   "id": "a7312f5a-1159-47d3-9c85-a1ec2ac1136c",
   "metadata": {},
   "outputs": [],
   "source": [
    "#!pip install torch torchvision\n",
    "import torch\n",
    "from torch import nn\n",
    "from torch import optim                             # used to compute the derivative\n",
    "from torch.utils.data import Dataset\n",
    "from torch.utils.data import DataLoader\n",
    "from torchvision import datasets\n",
    "from torchvision import transforms\n",
    "from torchvision.transforms import ToTensor\n",
    "\n",
    "import numpy as np\n",
    "from matplotlib import pyplot as plt\n",
    "\n",
    "from IPython.display import Markdown"
   ]
  },
  {
   "cell_type": "markdown",
   "id": "cf42e727-fc4d-40ca-a9d3-a38a81916e90",
   "metadata": {},
   "source": [
    "# PyTorch"
   ]
  },
  {
   "cell_type": "markdown",
   "id": "01999463-c74a-4ffd-9b5b-a29d437d3cd8",
   "metadata": {},
   "source": [
    "PyTorch is an open source machine learning library based on the Torch library, used for applications such as computer vision and natural language processing, primarily developed by Facebook's AI Research lab. It is free and open-source software released under the Modified BSD license"
   ]
  },
  {
   "cell_type": "markdown",
   "id": "2b99098e-2884-4d30-b2e2-a33edfce45c7",
   "metadata": {},
   "source": [
    "## PyTorch Tensors\n",
    "Tensors are a specialized data structure that are very similar to arrays and matrices. In PyTorch, we use tensors to encode the inputs ($x$) and outputs ($y$) of a model, as well as the model’s parameters (weights).\n",
    "\n",
    "Tensors are similar to NumPy’s ndarrays, except that tensors can run on GPUs or other hardware accelerators. In fact, tensors and NumPy arrays can often share the same underlying memory, eliminating the need to copy data. \n",
    "\n",
    "[Additional Reading](https://pytorch.org/tutorials/beginner/basics/tensor_tutorial.html)"
   ]
  },
  {
   "cell_type": "code",
   "execution_count": 2,
   "id": "78d42989-1288-46a5-b968-ba0d25fe0762",
   "metadata": {},
   "outputs": [
    {
     "name": "stdout",
     "output_type": "stream",
     "text": [
      "torch.int64\n",
      "torch.float16\n",
      "tensor([[1, 1]])\n"
     ]
    }
   ],
   "source": [
    "a = np.array([[1, 2], [3, 4]])\n",
    "t1 = torch.tensor(a)                                    # converts the numpy array to a PyTorch Tensor\n",
    "                                                        # will have the same datatype as the numpy array\n",
    "t2 = torch.from_numpy(a)                                # converts the numpy array to a PyTorch Tensor\n",
    "                                                        # the difference is this function shares the underlying memory between the \n",
    "                                                        # array & the tensor (changes in one will reflect in the other)\n",
    "t3 = torch.tensor([[1, 2]])                             # create a tensor directly from a list\n",
    "print(t3.dtype)\n",
    "t4 = torch.tensor([[2, 3]], dtype = torch.float16)\n",
    "print(t4.dtype)\n",
    "\n",
    "t5 = torch.ones_like(t3)                                # creates a tensor w/ the same shape & data type as t3, but filled with 1s\n",
    "print(t5)"
   ]
  },
  {
   "cell_type": "markdown",
   "id": "4a7d6af3-1170-4728-b917-e2eb9de616c8",
   "metadata": {},
   "source": [
    "## Pytorch AutoGrad"
   ]
  },
  {
   "cell_type": "code",
   "execution_count": 3,
   "id": "0b5154d6-67a0-488a-81ba-9a2a4d637793",
   "metadata": {},
   "outputs": [
    {
     "name": "stdout",
     "output_type": "stream",
     "text": [
      "tensor([7.])\n"
     ]
    }
   ],
   "source": [
    "x = torch.tensor([2.0], requires_grad=True)\n",
    "y = x ** 2 + 3 * x + 1\n",
    "y.backward()\n",
    "print(x.grad)       # gradient of y (x^2 + 3x + 1) w.r.t x at x=2\n",
    "                    #     i.e., rate of change of y w.r.t. x at the pt 2"
   ]
  },
  {
   "cell_type": "markdown",
   "id": "91facfbe-d50d-434d-8bf6-f7b9f1c5a2e6",
   "metadata": {},
   "source": [
    "## Perceptron\n",
    "Build a perceptron featuring three inputs and a single output. Initialize all weights ($𝑤_0$, $𝑤_2$, $𝑤_3$) to 1, considering a bias term. Take a training data point, 𝑥1=4, 𝑥2=-1, and 𝑦=1. Employ the backpropagation algorithm to demonstrate how this neural network evolves during the processing of the given training example. Set the learning rate (𝛼) to 0.5 and utilize the squared loss function."
   ]
  },
  {
   "cell_type": "code",
   "execution_count": 4,
   "id": "0e0ba6b1-45f8-400f-9452-c021577f1110",
   "metadata": {},
   "outputs": [
    {
     "name": "stdout",
     "output_type": "stream",
     "text": [
      "Forward Pass, h = 3.0\n",
      "Backward Pass, Derivatives = tensor([ 4., 16., -8.])\n",
      "Weights Update, w = tensor([-1., -7.,  5.], grad_fn=<SubBackward0>)\n"
     ]
    }
   ],
   "source": [
    "# Here we are building the perceptron ourselves             Hypothesis Function --> h = w ^ T * x \n",
    "x = torch.tensor([1., 4., -2.])                             # one data pt with 3 features\n",
    "y = torch.tensor([1.])                                      # one val representing the ground truth for the input \n",
    "w = torch.tensor([1., 1., 1.], requires_grad = True)        # computing the derivative w.r.t. w --> set requires_grad to True\n",
    "h = torch.matmul(w, x)                                      # computing the dot product (predicted output) --> Step 1: Forward Pass\n",
    "print(f'Forward Pass, h = {h}')\n",
    "J = (h - y) ** 2                                            # Squared Loss (difference between the ground truth & predicted vals)\n",
    "J.backward()                                                # Computing the derivatives of the loss w.r.t to the weights --> Step 2: Backward Pass\n",
    "print(f'Backward Pass, Derivatives = {w.grad}')\n",
    "w = w - 0.5 * w.grad                                        # Step 3 --> Update the weights of w by old vals of w so that we are \n",
    "                                                            # better able to estimate y                                                          \n",
    "print(f'Weights Update, w = {w}')"
   ]
  },
  {
   "cell_type": "code",
   "execution_count": 5,
   "id": "53baa6fb-2568-4ee4-9a51-4426ef037ecb",
   "metadata": {},
   "outputs": [
    {
     "name": "stdout",
     "output_type": "stream",
     "text": [
      "Forward Pass, h = Linear(in_features=2, out_features=1, bias=True)\n",
      "Backward Pass, Derivatives = tensor([[4.]]) tensor([[16., -8.]])\n",
      "Weights Update, w = [[-1.]] [[-7.  5.]]\n"
     ]
    }
   ],
   "source": [
    "# Using PyTorch Optimizer -- Simple Linear Regression\n",
    "x = torch.tensor([[4., -2.]])                                # one sample (4, -2 are the input features) \n",
    "y = torch.tensor([[1.]]) \n",
    "h = nn.Linear(2, 1, bias=True)                               # h = w x + b (defining a linear layer)\n",
    "                                                             # input dimension = 2 (2 features), output dimension = 1\n",
    "h.weight = nn.Parameter(torch.tensor([[1., 1.]]))  \n",
    "h.bias = nn.Parameter(torch.tensor([[1.]]))                  # bias --> additional parameter added to the weighted sum of inputs at \n",
    "                                                             #          each neuron in a layer before activation function is applied\n",
    "                                                             #     crucial for learning patterns that do no pass through the origin in the input space\n",
    "                                                             #     gives neural network more flexibility in learning complex relationships between inputs & outputs   \n",
    "                                                             #     learned and updated throughout the training process\n",
    "\n",
    "optimizer = optim.SGD(h.parameters(), lr = .5)               # gradient descent with learning rate lr\n",
    "                                                             # need to optimize all the parameters of the model h\n",
    "Cost = nn.MSELoss()                                          # mean squared error\n",
    "                                                             # specify the costs (manually, done through J, here done through MSE)\n",
    "\n",
    "# Now do all 3 steps\n",
    "\n",
    "# one iteration of Backpropagation algorithm\n",
    "optimizer.zero_grad()                                        # at every iteration, we need to reset the gradients of all parameters\n",
    "out = h(x)                                                   # 1. compute predicted output\n",
    "print(f'Forward Pass, h = {h}')\n",
    "loss = Cost(out, y)                                          # compute the loss between prediction & ground truth\n",
    "loss.backward()                                              # 2. compute gradients\n",
    "print(f'Backward Pass, Derivatives = {h.bias.grad} {h.weight.grad}')\n",
    "optimizer.step()                                             # 3. updates model parameters using computed gradients & lr\n",
    "print(f'Weights Update, w = {h.bias.detach().numpy()} {h.weight.detach().numpy()}')   # detaching because it lives on the GPU, to print it, bring it to your CPU\n",
    "                                                                                      # no need to attach again if you want to use it after"
   ]
  },
  {
   "cell_type": "markdown",
   "id": "abfaac81-88ee-44eb-b8a3-5cf2912d5d73",
   "metadata": {},
   "source": [
    "## Linear Example"
   ]
  },
  {
   "cell_type": "code",
   "execution_count": 8,
   "id": "11a21c15-c15d-4850-96b0-5edc20f693b9",
   "metadata": {},
   "outputs": [
    {
     "data": {
      "image/png": "[encoded data removed]",
      "text/plain": [
       "<Figure size 640x480 with 1 Axes>"
      ]
     },
     "metadata": {},
     "output_type": "display_data"
    }
   ],
   "source": [
    "np.random.seed(42)\n",
    "x_data = np.sort(-2. + 4. * np.random.rand(20))                 # 20 samples (each are 1D), we need the matrix to be 20 x 1 before passing it to the model\n",
    "y_data = 5. * x_data + 2.5 + np.random.randn(20)                 \n",
    "\n",
    "X = torch.tensor(x_data[:,np.newaxis], dtype=torch.float32)     # convert data to tensors\n",
    "Y = torch.tensor(y_data[:,np.newaxis], dtype=torch.float32)\n",
    "\n",
    "# Linear regression hypothesis using Pytorch\n",
    "h = nn.Linear(1, 1, bias=True)                                  # h = w x + b\n",
    "                                                                # in_features = 1 --> specifies the size of the input feature space (1 feature x so in_features = 1)\n",
    "\n",
    "optimizer = optim.SGD(h.parameters(), lr = .1)                  # stochastic gradient descent with learning rate lr\n",
    "                                                                # h.paramters() --> we're updating w0 and w1\n",
    "Cost = nn.MSELoss() # mean squared error\n",
    "\n",
    "for i in range(50):                                             # 50 epochs (epoch -- one complete pass through the training dataset)\n",
    "    optimizer.zero_grad()\n",
    "    out = h(X)\n",
    "    loss = Cost(out, Y)                                         # loss should decrease with each step\n",
    "    loss.backward()\n",
    "    optimizer.step()\n",
    "\n",
    "plt.plot(x_data, y_data, 'b.')\n",
    "x = torch.tensor(np.linspace(-2.0, 2.0, 100).reshape(-1,1), dtype=torch.float32)    # generate an arr of 100 equally-spaced pts between -2.0 & 2.0, reshape to one col, and convert to tensor \n",
    "                                                                                    # (see task2 did this example slightly differently)\n",
    "y = h(x).detach().numpy()   # detach and convert tensor to NumPy\n",
    "plt.plot(x,y,'r')\n",
    "plt.ylim([-15, 15])\n",
    "plt.xlim([-2, 2])\n",
    "plt.grid('on')"
   ]
  },
  {
   "cell_type": "markdown",
   "id": "eb4178a4-1b9d-48f8-a74c-4d30f9ccdb94",
   "metadata": {},
   "source": [
    "## Non-Linear Example\n",
    "\n",
    "We will design a 2-Hidden layers Neural Network to predict the following data"
   ]
  },
  {
   "cell_type": "code",
   "execution_count": 9,
   "id": "d7054b2c-5d1e-4476-bd93-8e038da21db6",
   "metadata": {},
   "outputs": [
    {
     "name": "stdout",
     "output_type": "stream",
     "text": [
      "Epoch [500/10000], Loss: 21.5521\n",
      "Epoch [1000/10000], Loss: 6.1377\n",
      "Epoch [1500/10000], Loss: 4.4687\n",
      "Epoch [2000/10000], Loss: 3.8107\n",
      "Epoch [2500/10000], Loss: 3.0445\n",
      "Epoch [3000/10000], Loss: 2.9134\n",
      "Epoch [3500/10000], Loss: 2.5641\n",
      "Epoch [4000/10000], Loss: 2.5502\n",
      "Epoch [4500/10000], Loss: 2.2456\n",
      "Epoch [5000/10000], Loss: 2.1306\n",
      "Epoch [5500/10000], Loss: 1.9391\n",
      "Epoch [6000/10000], Loss: 1.8814\n",
      "Epoch [6500/10000], Loss: 1.8142\n",
      "Epoch [7000/10000], Loss: 1.7577\n",
      "Epoch [7500/10000], Loss: 1.6940\n",
      "Epoch [8000/10000], Loss: 1.6639\n",
      "Epoch [8500/10000], Loss: 1.7978\n",
      "Epoch [9000/10000], Loss: 1.7284\n",
      "Epoch [9500/10000], Loss: 1.6496\n",
      "Epoch [10000/10000], Loss: 1.6135\n"
     ]
    },
    {
     "data": {
      "text/plain": [
       "Text(0.5, 1.0, 'Synthetic data')"
      ]
     },
     "execution_count": 9,
     "metadata": {},
     "output_type": "execute_result"
    },
    {
     "data": {
      "image/png": "[encoded data removed]",
      "text/plain": [
       "<Figure size 640x480 with 1 Axes>"
      ]
     },
     "metadata": {},
     "output_type": "display_data"
    }
   ],
   "source": [
    "# Generate synthetic data for number of hours spend on video games vs happiness level\n",
    "np.random.seed(42)\n",
    "hours = torch.linspace(0, 14, 100).view(-1, 1)          # 100 numbers between 0 and 14\n",
    "happiness = 10 + 2 * hours + 0.2*np.random.normal(0, 5, 100).astype(np.float32).reshape(-1,1) - 0.2 * hours**2\n",
    "x = hours\n",
    "y = happiness\n",
    "\n",
    "# Define a neural network\n",
    "#       2 hidden layers; each will have 6 neurons (for each neuron, we have a bias term), use ReLU for the function g in the hidden layers\n",
    "\n",
    "class MyModel(nn.Module):                               # nn.Module --> parent class\n",
    "    def __init__(self):\n",
    "        super(MyModel, self).__init__()\n",
    "\n",
    "        # define the three layers\n",
    "        self.layer1 = nn.Linear(1, 6, bias=True)        # Input to hidden layer    (input = 1, 6 outputs()  \n",
    "        self.layer2 = nn.Linear(6, 6)                   # input = the 6 outputs from the previous layers, 6 output \n",
    "        self.layer3 = nn.Linear(6, 1)                   # Hidden layer to output   (6 inputs, 1 output)\n",
    "\n",
    "    def forward(self, x):                               # override the forward method of nn.Module\n",
    "        x = torch.relu(self.layer1(x))                  # applying non-linearity\n",
    "        x = torch.relu(self.layer2(x))\n",
    "        x = self.layer3(x)                              # we want negative outputs in the last layer, don't use relu\n",
    "        return x\n",
    "\n",
    "# Instantiate the model, define loss function, and optimizer\n",
    "model = MyModel()\n",
    "criterion = nn.MSELoss()\n",
    "optimizer = optim.SGD(model.parameters(), lr=0.001)\n",
    "\n",
    "# Train the neural network\n",
    "num_epochs = 10000\n",
    "for epoch in range(num_epochs):\n",
    "    # Forward pass\n",
    "    y_pred = model(x)\n",
    "    # Compute the loss\n",
    "    loss = criterion(y_pred, y)\n",
    "    # Backward pass and optimization\n",
    "    optimizer.zero_grad()\n",
    "    loss.backward()\n",
    "    optimizer.step()\n",
    "\n",
    "    if (epoch + 1) % 500 == 0:\n",
    "        print(f'Epoch [{epoch+1}/{num_epochs}], Loss: {loss.item():.4f}')\n",
    "\n",
    "\n",
    "## Plot the results\n",
    "plt.plot(x,y, '.')\n",
    "out = model(x)\n",
    "plt.plot(x,out.detach().numpy(), 'r')\n",
    "plt.xlabel('Hours playing video games')\n",
    "plt.ylabel('happiness level')\n",
    "plt.title('Synthetic data')"
   ]
  },
  {
   "cell_type": "markdown",
   "id": "1954ca74-5953-4b44-93f3-a4ac952535e5",
   "metadata": {},
   "source": [
    "# MNIST Image Classification\n",
    "### 1.  Loading the MNIST dataset"
   ]
  },
  {
   "cell_type": "code",
   "execution_count": 6,
   "id": "578ce899-4be7-4eef-81dc-f9ce07428c5c",
   "metadata": {
    "scrolled": true
   },
   "outputs": [
    {
     "data": {
      "text/markdown": [
       "\n",
       "The data is contained in the ```training_data.data``` and the labels\n",
       "in ```training_data.targets```.\n",
       "\n",
       "You can also access the data using indexing ```training_data[index]```\n",
       "\n",
       "The ```Dataset``` retrieves our dataset’s features and labels one sample at a time. While training a model, \n",
       "we typically want to pass samples in “minibatches”, reshuffle the data at every epoch to reduce model overfitting\n",
       "\n",
       "```DataLoader``` is an iterable that abstracts this complexity for us in an easy API.\n",
       "\n",
       "```train_features, train_labels = next(iter(train_dataloader))```\n",
       "\n",
       "[Additional Reading](https://pytorch.org/tutorials/beginner/basics/data_tutorial.html)\n"
      ],
      "text/plain": [
       "<IPython.core.display.Markdown object>"
      ]
     },
     "execution_count": 6,
     "metadata": {},
     "output_type": "execute_result"
    }
   ],
   "source": [
    "training_data = datasets.MNIST(\n",
    "    root='~/Downloads/',\n",
    "    train=True,\n",
    "    download=True,\n",
    "    transform=transforms.Compose([\n",
    "              transforms.ToTensor()])\n",
    "              #transforms.Normalize((0.1307,), (0.3081,))])\n",
    ") \n",
    "                # download MNIST dataset, save it in the Downloads folder, we only want to get the training part\n",
    "                # download = True --> download if it doesn't exist\n",
    "                # transforms.ToTensor() --> convert each image in the PIL data type to Tensor\n",
    "                # if you want to apply Gaussian Blur, flip the image, do some data augmentation --> all can be specified here\n",
    "\n",
    "test_data = datasets.MNIST(\n",
    "    root='~/Downloads/',\n",
    "    train=False,\n",
    "    download=True,\n",
    "    transform=ToTensor()\n",
    ")\n",
    "\n",
    "content = \"\"\"\n",
    "The data is contained in the ```training_data.data``` and the labels\n",
    "in ```training_data.targets```.\n",
    "\n",
    "You can also access the data using indexing ```training_data[index]```\n",
    "\n",
    "The ```Dataset``` retrieves our dataset’s features and labels one sample at a time. While training a model, \n",
    "we typically want to pass samples in “minibatches”, reshuffle the data at every epoch to reduce model overfitting\n",
    "\n",
    "```DataLoader``` is an iterable that abstracts this complexity for us in an easy API.\n",
    "\n",
    "```train_features, train_labels = next(iter(train_dataloader))```\n",
    "\n",
    "[Additional Reading](https://pytorch.org/tutorials/beginner/basics/data_tutorial.html)\n",
    "\"\"\"\n",
    "\n",
    "batchsize = 64\n",
    "train_dataloader = DataLoader(training_data, batch_size=batchsize, shuffle=True)\n",
    "test_dataloader = DataLoader(test_data, batch_size=8, shuffle=True)\n",
    "\n",
    "Markdown(content)"
   ]
  },
  {
   "cell_type": "code",
   "execution_count": 7,
   "id": "a3e86214",
   "metadata": {},
   "outputs": [
    {
     "data": {
      "text/plain": [
       "5"
      ]
     },
     "execution_count": 7,
     "metadata": {},
     "output_type": "execute_result"
    }
   ],
   "source": [
    "training_data[0][0]         # get X (image) of index 0\n",
    "training_data[0][1]         # get Y (label) of index 0"
   ]
  },
  {
   "cell_type": "code",
   "execution_count": 8,
   "id": "47841b58",
   "metadata": {},
   "outputs": [
    {
     "data": {
      "text/plain": [
       "<matplotlib.image.AxesImage at 0x20b300603d0>"
      ]
     },
     "execution_count": 8,
     "metadata": {},
     "output_type": "execute_result"
    },
    {
     "data": {
      "image/png": "[encoded data removed]",
      "text/plain": [
       "<Figure size 640x480 with 1 Axes>"
      ]
     },
     "metadata": {},
     "output_type": "display_data"
    }
   ],
   "source": [
    "type(training_data[0])                                             # output --> tuple (x & y)\n",
    "                                                                   #            x -- image, y -- label\n",
    "training_data[0][0].shape                                          # output --> torch.Size([1, 28, 28]) -- 1 sample, image is 28 x 28\n",
    "                                                                   #            if it was an RGB image, the output would be torch.Size([1, 3, 28, 28])\n",
    "plt.imshow(training_data[59999][0][0, :, :], cmap = 'gray')        # [0, :, :] --> need to give plt (28 x 28) and not (1 x 28 x 28) \n",
    "                                                                   # so we specify the first element as 0"
   ]
  },
  {
   "cell_type": "code",
   "execution_count": 9,
   "id": "ed7d74fe",
   "metadata": {},
   "outputs": [],
   "source": [
    "data = next(iter(train_dataloader))     # make an iteration out of train_dataloader, we want to get the next batch of 64 images"
   ]
  },
  {
   "cell_type": "code",
   "execution_count": 10,
   "id": "eccf0ee0",
   "metadata": {},
   "outputs": [
    {
     "data": {
      "text/plain": [
       "torch.Size([64, 784])"
      ]
     },
     "execution_count": 10,
     "metadata": {},
     "output_type": "execute_result"
    }
   ],
   "source": [
    "len(data[0])                            # output: 64 --> number of samples\n",
    "data[0].shape                           # output: torch.Size([64, 1, 28, 28]) --> 64 images, each image is 1 x 28 x 28\n",
    "data[0].reshape(64, -1).shape           # output: torch.Size([64, 784]) --> need them in one feature vector to be fed into the neural network (vectorize the image)\n",
    "                                        #                                   can also use view(), which does the same thing as reshape\n",
    "                                        #                                   view() is better because it's in-place, reshape allocates extra space for the data"
   ]
  },
  {
   "cell_type": "markdown",
   "id": "7db958e2-51fe-4081-b000-ed7fdc5f7545",
   "metadata": {},
   "source": [
    "### 2.  Create a multiclass logistic regression (softmax) model and train"
   ]
  },
  {
   "cell_type": "code",
   "execution_count": 11,
   "id": "4f68a2d8-e68f-49ed-8f6d-14655dc4d328",
   "metadata": {},
   "outputs": [
    {
     "name": "stdout",
     "output_type": "stream",
     "text": [
      "Epoch 1:1 Loss: 2.3546245098114014\n",
      "Epoch 1:301 Loss: 2.019240140914917\n",
      "Epoch 1:601 Loss: 1.7482268810272217\n",
      "Epoch 1:901 Loss: 1.671295166015625\n",
      "Epoch 2:1 Loss: 1.5479965209960938\n",
      "Epoch 2:301 Loss: 1.4216547012329102\n",
      "Epoch 2:601 Loss: 1.3708845376968384\n",
      "Epoch 2:901 Loss: 1.2654904127120972\n",
      "Epoch 3:1 Loss: 1.311782956123352\n",
      "Epoch 3:301 Loss: 1.2261075973510742\n",
      "Epoch 3:601 Loss: 1.17709219455719\n",
      "Epoch 3:901 Loss: 1.0769237279891968\n",
      "Epoch 4:1 Loss: 1.1021281480789185\n",
      "Epoch 4:301 Loss: 1.058032512664795\n",
      "Epoch 4:601 Loss: 1.0870563983917236\n",
      "Epoch 4:901 Loss: 0.8392415642738342\n",
      "Epoch 5:1 Loss: 1.0305029153823853\n",
      "Epoch 5:301 Loss: 0.7578621506690979\n",
      "Epoch 5:601 Loss: 0.8968597650527954\n",
      "Epoch 5:901 Loss: 0.7898155450820923\n",
      "Epoch 6:1 Loss: 0.7672116160392761\n",
      "Epoch 6:301 Loss: 0.9064183235168457\n",
      "Epoch 6:601 Loss: 0.6934901475906372\n",
      "Epoch 6:901 Loss: 0.7545101642608643\n",
      "Epoch 7:1 Loss: 0.8090190291404724\n",
      "Epoch 7:301 Loss: 0.8100811839103699\n",
      "Epoch 7:601 Loss: 0.8539330959320068\n",
      "Epoch 7:901 Loss: 0.6297372579574585\n",
      "Epoch 8:1 Loss: 0.7437236309051514\n",
      "Epoch 8:301 Loss: 0.6935806274414062\n",
      "Epoch 8:601 Loss: 0.6607009768486023\n",
      "Epoch 8:901 Loss: 0.5719062685966492\n",
      "Epoch 9:1 Loss: 0.5962510704994202\n",
      "Epoch 9:301 Loss: 0.6960411667823792\n",
      "Epoch 9:601 Loss: 0.5457803010940552\n",
      "Epoch 9:901 Loss: 0.5807743072509766\n",
      "Epoch 10:1 Loss: 0.7398842573165894\n",
      "Epoch 10:301 Loss: 0.5839000940322876\n",
      "Epoch 10:601 Loss: 0.5203177332878113\n",
      "Epoch 10:901 Loss: 0.44800251722335815\n"
     ]
    }
   ],
   "source": [
    "device = torch.device('cuda:0' if torch.cuda.is_available() else 'cpu')\n",
    "\n",
    "class mnistClassifier(nn.Module):                       # image is 28 x 28 pixels -- total number of features = 784\n",
    "                                                        # I want to get probability values -- e.g., P( y = 0 | x )\n",
    "    def __init__(self):\n",
    "        super(mnistClassifier, self).__init__()\n",
    "\n",
    "        # define the neural network\n",
    "        self.layer1 = nn.Linear(784, 10, bias=True)     # input is the 784 feature vectors, 10 outputs\n",
    "        self.prob = nn.LogSoftmax(dim=1)                # we want to have stable training, we don't want to use division\n",
    "                                                        # dim = 1 --> dim 1 of the input tensor, which corresponds to the output features of the nn\n",
    "                                                        # either do it here as a layer or do it in the forward function \n",
    "\n",
    "    def forward(self, x):\n",
    "        # x = self.prob(self.layer1(x))\n",
    "        x = torch.log_softmax(self.layer1(x), dim=1)\n",
    "        return x\n",
    "        \n",
    "hypothesis = mnistClassifier()\n",
    "\n",
    "optimizer = optim.SGD(hypothesis.parameters(), lr = .001)   # stochastic gradient descent with learning rate lr\n",
    "Cost = nn.NLLLoss()                                         # Negative log likelihood loss\n",
    "\n",
    "J_history = []\n",
    "for epoch in range(10):                             # pass through the dataset 1000 times, but we're doing it in a batch of 64\n",
    "    running_loss = 0\n",
    "    for i, data in enumerate(train_dataloader):\n",
    "        \n",
    "        inputs, labels = data\n",
    "        inputs = inputs.to(device)\n",
    "        labels = labels.to(device)\n",
    "        \n",
    "        inputs = inputs.reshape(inputs.shape[0],-1)\n",
    "        \n",
    "        optimizer.zero_grad()\n",
    "        # forward pass\n",
    "        out = hypothesis(inputs)\n",
    "\n",
    "        loss = Cost(out, labels)\n",
    "\n",
    "        # backward pass\n",
    "        loss.backward()\n",
    "\n",
    "        # update paramters\n",
    "        optimizer.step()\n",
    "\n",
    "        \n",
    "        running_loss += loss.item()\n",
    "        \n",
    "        if i%300 == 0:\n",
    "            print(f'Epoch {epoch+1}:{i+1} Loss: {loss.item()}')\n",
    "            \n",
    "    J_history += [running_loss]"
   ]
  },
  {
   "cell_type": "markdown",
   "id": "42ab59e4-767f-4b09-be7d-ca1306db28a5",
   "metadata": {},
   "source": [
    "### 3. Plot Convergence plot of gradient descent with respect to no of epochs"
   ]
  },
  {
   "cell_type": "code",
   "execution_count": 12,
   "id": "354aa19d-0342-4dc1-9a34-9eccc4599562",
   "metadata": {},
   "outputs": [
    {
     "data": {
      "image/png": "[encoded data removed]",
      "text/plain": [
       "<Figure size 640x480 with 1 Axes>"
      ]
     },
     "metadata": {},
     "output_type": "display_data"
    }
   ],
   "source": [
    "from matplotlib import pyplot as plt\n",
    "plt.plot(J_history)\n",
    "plt.title('Convergence plot of gradient descent')\n",
    "plt.xlabel('No of Epochs')\n",
    "plt.ylabel('J')\n",
    "plt.show()"
   ]
  },
  {
   "cell_type": "markdown",
   "id": "c1e3a641-2ce7-465a-9c96-1328bff933c0",
   "metadata": {},
   "source": [
    "### 4. Test on a batch of test images and display images with the predicted label"
   ]
  },
  {
   "cell_type": "code",
   "execution_count": 14,
   "id": "6e8745f3-facc-41bd-9c3a-d449ddf37bcd",
   "metadata": {},
   "outputs": [
    {
     "data": {
      "image/png": "[encoded data removed]",
      "text/plain": [
       "<Figure size 640x480 with 6 Axes>"
      ]
     },
     "metadata": {},
     "output_type": "display_data"
    }
   ],
   "source": [
    "# test on one batch of test data\n",
    "inputs_im, labels =  next(iter(test_dataloader))        \n",
    "inputs = inputs_im.to(device)\n",
    "labels = labels.to(device)\n",
    "inputs = inputs.reshape(inputs.shape[0],-1)         # reshapes input data into a 2D tensor; each row represents a sample & each col represents a feature\n",
    "out = hypothesis(inputs)\n",
    "pr = torch.argmax(out, dim=1)                       # predicted labels\n",
    "                                                    # computes the predicted labels by taking the index of the maximum value along \n",
    "                                                    # dimension 1 of the output tensor out \n",
    "                                                    # This essentially finds the class with the highest probability for each sample\n",
    "\n",
    "fig = plt.figure()\n",
    "for i in range(6):\n",
    "    plt.subplot(2,3,i+1)\n",
    "    plt.tight_layout()\n",
    "    im = torch.squeeze(inputs_im[i].detach(), dim=0).numpy()    # convert the images to a NumPy array\n",
    "    plt.imshow(im, cmap='gray', interpolation='none')\n",
    "    plt.title(\"Predicted: {}\".format(pr[i]))\n",
    "    plt.xticks([])\n",
    "    plt.yticks([])"
   ]
  }
 ],
 "metadata": {
  "kernelspec": {
   "display_name": "Python 3 (ipykernel)",
   "language": "python",
   "name": "python3"
  },
  "language_info": {
   "codemirror_mode": {
    "name": "ipython",
    "version": 3
   },
   "file_extension": ".py",
   "mimetype": "text/x-python",
   "name": "python",
   "nbconvert_exporter": "python",
   "pygments_lexer": "ipython3",
   "version": "3.9.18"
  }
 },
 "nbformat": 4,
 "nbformat_minor": 5
}
