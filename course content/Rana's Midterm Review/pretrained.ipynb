{
 "cells": [
  {
   "cell_type": "code",
   "execution_count": 1,
   "metadata": {},
   "outputs": [],
   "source": [
    "from torchvision.io import read_image\n",
    "from matplotlib import pyplot as plt\n",
    "\n",
    "import torch\n",
    "from torch import nn\n",
    "from torch import optim\n",
    "from torch.utils.data import Dataset\n",
    "from torch.utils.data import DataLoader\n",
    "from torchvision import datasets\n",
    "from torchvision import transforms\n",
    "from torchvision.transforms import ToTensor\n"
   ]
  },
  {
   "cell_type": "code",
   "execution_count": 56,
   "metadata": {},
   "outputs": [
    {
     "data": {
      "text/plain": [
       "tensor([[ 54., 108.]], grad_fn=<MmBackward0>)"
      ]
     },
     "execution_count": 56,
     "metadata": {},
     "output_type": "execute_result"
    }
   ],
   "source": [
    "x = torch.tensor([[3,6,9,3,2],\n",
    "                  [9,3,4,3,2],\n",
    "                  [6,2,1,9,2],\n",
    "                  [5,9,1,8,4],\n",
    "                  [3,4,1,9,5]], dtype=torch.float)\n",
    "\n",
    "class MyModel(nn.Module):\n",
    "    def __init__(self):\n",
    "        super().__init__()\n",
    "\n",
    "        self.conv = nn.Conv2d(in_channels=1, out_channels=2, kernel_size=3, padding=1, stride=1, bias=False)        #output = 5 x 5 x 2\n",
    "        self.conv.weight = nn.Parameter(torch.tensor([[[0.5,0,0], [0,0,0], [0,0,0.5]], [[0,0,0],[1,0,-1],[0,0,0]]]).reshape(self.conv.weight.shape))\n",
    "        self.relu = nn.ReLU()\n",
    "        self.maxpool = nn.MaxPool2d(kernel_size=3, stride=2)        # output = 2 x 2 x 2\n",
    "        self.flatten = nn.Flatten()\n",
    "        self.linear = nn.Linear(2*2*2,2, bias=False)\n",
    "        self.linear.weight = nn.Parameter(torch.tensor([8*[1], 8*[2]], dtype=torch.float))\n",
    "\n",
    "        self.network = nn.Sequential(self.conv, self.relu, self.maxpool, self.flatten, self.linear)\n",
    "        \n",
    "    def forward(self, x):  \n",
    "        \n",
    "        return self.network(x)\n",
    "    \n",
    "model = MyModel()\n",
    "out = model(x.reshape(1,1,5,5))\n",
    "out"
   ]
  },
  {
   "cell_type": "code",
   "execution_count": 39,
   "metadata": {},
   "outputs": [
    {
     "data": {
      "text/plain": [
       "MyModel(\n",
       "  (conv): Conv2d(1, 2, kernel_size=(3, 3), stride=(1, 1), padding=(1, 1))\n",
       "  (relu): ReLU()\n",
       "  (maxpool): MaxPool2d(kernel_size=3, stride=2, padding=0, dilation=1, ceil_mode=False)\n",
       "  (flatten): Flatten(start_dim=1, end_dim=-1)\n",
       "  (linear): Linear(in_features=8, out_features=2, bias=True)\n",
       "  (network): Sequential(\n",
       "    (0): Conv2d(1, 2, kernel_size=(3, 3), stride=(1, 1), padding=(1, 1))\n",
       "    (1): ReLU()\n",
       "    (2): MaxPool2d(kernel_size=3, stride=2, padding=0, dilation=1, ceil_mode=False)\n",
       "    (3): Flatten(start_dim=1, end_dim=-1)\n",
       "    (4): Linear(in_features=8, out_features=2, bias=True)\n",
       "  )\n",
       ")"
      ]
     },
     "execution_count": 39,
     "metadata": {},
     "output_type": "execute_result"
    }
   ],
   "source": [
    "model"
   ]
  }
 ],
 "metadata": {
  "kernelspec": {
   "display_name": "base",
   "language": "python",
   "name": "python3"
  },
  "language_info": {
   "codemirror_mode": {
    "name": "ipython",
    "version": 3
   },
   "file_extension": ".py",
   "mimetype": "text/x-python",
   "name": "python",
   "nbconvert_exporter": "python",
   "pygments_lexer": "ipython3",
   "version": "3.11.5"
  }
 },
 "nbformat": 4,
 "nbformat_minor": 2
}
